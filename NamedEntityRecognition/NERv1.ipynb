{
  "nbformat": 4,
  "nbformat_minor": 0,
  "metadata": {
    "colab": {
      "name": "NERv1.ipynb",
      "provenance": [],
      "collapsed_sections": []
    },
    "kernelspec": {
      "name": "python3",
      "display_name": "Python 3"
    },
    "accelerator": "GPU"
  },
  "cells": [
    {
      "cell_type": "markdown",
      "metadata": {
        "id": "CcmLA80sYihs",
        "colab_type": "text"
      },
      "source": [
        "### Imports"
      ]
    },
    {
      "cell_type": "code",
      "metadata": {
        "id": "LIUdr00CDUMn",
        "colab_type": "code",
        "colab": {}
      },
      "source": [
        "# ! pip install seqeval\n",
        "import warnings\n",
        "warnings.filterwarnings('ignore')\n",
        "import string \n",
        "import re\n",
        "import numpy as np\n",
        "import pandas as pd\n",
        "from collections import Counter\n",
        "from matplotlib import pyplot as plt\n",
        "import itertools\n",
        "from sklearn.metrics import f1_score, classification_report, confusion_matrix\n",
        "from matplotlib import pyplot as plt\n",
        "from sklearn.model_selection import train_test_split\n",
        "from sklearn.metrics import f1_score\n",
        "import torch\n",
        "import torch.autograd as autograd\n",
        "import torch.nn as nn\n",
        "import torch.optim as optim\n",
        "device = torch.device(\"cuda\" if torch.cuda.is_available() else \"cpu\") "
      ],
      "execution_count": 0,
      "outputs": []
    },
    {
      "cell_type": "markdown",
      "metadata": {
        "id": "vrFV3K3DQMHJ",
        "colab_type": "text"
      },
      "source": [
        "### Download data"
      ]
    },
    {
      "cell_type": "code",
      "metadata": {
        "colab_type": "code",
        "outputId": "e2952457-a222-44ea-fc01-cb5af431937f",
        "id": "Q_RdhOtPHzM8",
        "colab": {
          "base_uri": "https://localhost:8080/",
          "height": 488
        }
      },
      "source": [
        "# get Annotated Corpus for Named Entity Recognition \n",
        "!wget https://github.com/RufinaMay/CV2019Fall_Pictures/blob/master/ner_dataset.csv?raw=true -O ner_dataset.csv\n",
        "# get Broad Twitter\n",
        "!git clone https://github.com/GateNLP/broad_twitter_corpus.git"
      ],
      "execution_count": 3,
      "outputs": [
        {
          "output_type": "stream",
          "text": [
            "--2019-12-06 19:11:42--  https://github.com/RufinaMay/CV2019Fall_Pictures/blob/master/ner_dataset.csv?raw=true\n",
            "Resolving github.com (github.com)... 192.30.253.113\n",
            "Connecting to github.com (github.com)|192.30.253.113|:443... connected.\n",
            "HTTP request sent, awaiting response... 302 Found\n",
            "Location: https://github.com/RufinaMay/CV2019Fall_Pictures/raw/master/ner_dataset.csv [following]\n",
            "--2019-12-06 19:11:43--  https://github.com/RufinaMay/CV2019Fall_Pictures/raw/master/ner_dataset.csv\n",
            "Reusing existing connection to github.com:443.\n",
            "HTTP request sent, awaiting response... 302 Found\n",
            "Location: https://raw.githubusercontent.com/RufinaMay/CV2019Fall_Pictures/master/ner_dataset.csv [following]\n",
            "--2019-12-06 19:11:43--  https://raw.githubusercontent.com/RufinaMay/CV2019Fall_Pictures/master/ner_dataset.csv\n",
            "Resolving raw.githubusercontent.com (raw.githubusercontent.com)... 151.101.0.133, 151.101.64.133, 151.101.128.133, ...\n",
            "Connecting to raw.githubusercontent.com (raw.githubusercontent.com)|151.101.0.133|:443... connected.\n",
            "HTTP request sent, awaiting response... 200 OK\n",
            "Length: 14159575 (14M) [text/plain]\n",
            "Saving to: ‘ner_dataset.csv’\n",
            "\n",
            "ner_dataset.csv     100%[===================>]  13.50M  75.8MB/s    in 0.2s    \n",
            "\n",
            "2019-12-06 19:11:45 (75.8 MB/s) - ‘ner_dataset.csv’ saved [14159575/14159575]\n",
            "\n",
            "Cloning into 'broad_twitter_corpus'...\n",
            "remote: Enumerating objects: 9676, done.\u001b[K\n",
            "remote: Total 9676 (delta 0), reused 0 (delta 0), pack-reused 9676\u001b[K\n",
            "Receiving objects: 100% (9676/9676), 26.77 MiB | 8.30 MiB/s, done.\n",
            "Resolving deltas: 100% (9575/9575), done.\n",
            "Checking out files: 100% (9601/9601), done.\n"
          ],
          "name": "stdout"
        }
      ]
    },
    {
      "cell_type": "markdown",
      "metadata": {
        "id": "dlk83M2PX06r",
        "colab_type": "text"
      },
      "source": [
        "## Load and preprocess the Broad Twitter\n",
        "Convert to indexes and split on train and test"
      ]
    },
    {
      "cell_type": "code",
      "metadata": {
        "id": "I8fkE26_VyLv",
        "colab_type": "code",
        "outputId": "acf9324f-0c39-4907-8e77-993382ede51f",
        "colab": {
          "base_uri": "https://localhost:8080/",
          "height": 139
        }
      },
      "source": [
        "unique_tags = set()\n",
        "unique_words = set()\n",
        "\n",
        "def load_file(path):\n",
        "  f = open(path)\n",
        "  line = f.readline()\n",
        "  regex = re.compile('[^a-zA-Z]')\n",
        "  data = []\n",
        "  sent, tags = [], []\n",
        "  while line:\n",
        "    try: \n",
        "      word, tag = line.split()\n",
        "      word = regex.sub(' ', word)\n",
        "      if len(word)>0:\n",
        "        word = word.lower()\n",
        "        sent.append(word)\n",
        "        tags.append(tag)\n",
        "        unique_tags.add(tag)\n",
        "        unique_words.add(word)\n",
        "    except: \n",
        "      data.append((sent, tags))\n",
        "      sent, tags = [], []\n",
        "    line = f.readline()\n",
        "  f.close()\n",
        "  return data\n",
        "\n",
        "# load test data\n",
        "test_data = load_file('broad_twitter_corpus/h.conll')\n",
        "\n",
        "# keep half for training data and half to test data\n",
        "train_data = test_data[100:]\n",
        "test_data = test_data[:100]\n",
        "print(len(test_data))\n",
        "\n",
        "# load train data\n",
        "paths_to_train = ['broad_twitter_corpus/a.conll', 'broad_twitter_corpus/b.conll', 'broad_twitter_corpus/e.conll',\n",
        "                  'broad_twitter_corpus/f.conll', 'broad_twitter_corpus/g.conll']\n",
        "\n",
        "for path in paths_to_train:\n",
        "  data = load_file(path)\n",
        "  for sent in data:\n",
        "    train_data.append(sent)\n",
        "\n",
        "print(f'test samples {len(test_data)}')\n",
        "print(f'train samples {len(train_data)}')\n",
        "print(len(unique_words))\n",
        "\n",
        "# index words and tags\n",
        "word_to_idx = {k:i for i, k in enumerate(unique_words)}\n",
        "tag_to_idx = {k:i for i, k in enumerate(unique_tags)}\n",
        "tag_to_idx['START'] = len(tag_to_idx)\n",
        "tag_to_idx['END'] = len(tag_to_idx)\n",
        "print(tag_to_idx)\n",
        "\n",
        "# convert train sentences and tags to indexes\n",
        "indexed_train = []\n",
        "for sent, tags in train_data:\n",
        "  indexed_sent = [word_to_idx[word] for word in sent ]\n",
        "  indexed_tags = [tag_to_idx[tag] for tag in tags]\n",
        "  indexed_train.append((indexed_sent, indexed_tags))\n",
        "\n",
        "# split data on train and validation sets\n",
        "indexed_train, indexed_validation = train_test_split(indexed_train, test_size = 0.3, shuffle = True)\n",
        "print(f'train size: {len(indexed_train)}')\n",
        "print(f'valid size: {len(indexed_validation)}')\n",
        "\n",
        "# index test set as well\n",
        "indexed_test = []\n",
        "for sent, tags in test_data:\n",
        "  indexed_sent = [word_to_idx[word] for word in sent ]\n",
        "  indexed_tags = [tag_to_idx[tag] for tag in tags]\n",
        "  indexed_test.append((indexed_sent, indexed_tags))\n",
        "\n",
        "index_to_tag = {tag_to_idx[k]:k for k in tag_to_idx }"
      ],
      "execution_count": 12,
      "outputs": [
        {
          "output_type": "stream",
          "text": [
            "100\n",
            "test samples 100\n",
            "train samples 9251\n",
            "27160\n",
            "{'I-PER': 0, 'B-PER': 1, 'B-LOC': 2, 'I-LOC': 3, 'B-ORG': 4, 'O': 5, 'I-ORG': 6, 'START': 7, 'END': 8}\n",
            "train size: 6475\n",
            "valid size: 2776\n"
          ],
          "name": "stdout"
        }
      ]
    },
    {
      "cell_type": "markdown",
      "metadata": {
        "id": "bxS85e2YTs2S",
        "colab_type": "text"
      },
      "source": [
        "### Load and preprocess Annotated Corpusfor Named Entity Recognition"
      ]
    },
    {
      "cell_type": "code",
      "metadata": {
        "id": "keqA22vvYqlh",
        "colab_type": "code",
        "outputId": "415c50ce-74f8-438b-86a7-85d38d124ac3",
        "colab": {
          "base_uri": "https://localhost:8080/",
          "height": 159
        }
      },
      "source": [
        "data = pd.read_csv('ner_dataset.csv', encoding='latin1')\n",
        "data = data.fillna(method=\"ffill\")\n",
        "words = list(set(data['Word'].values))\n",
        "tags = list(set(data['Tag'].values))\n",
        "\n",
        "print(f'Sentences: {len(data.groupby([\"Sentence #\"]))}')\n",
        "print(f'Words: {len(words)}')\n",
        "print(f'Tags: {len(tags)}')\n",
        "\n",
        "words_set = set()\n",
        "regex = re.compile('[^a-zA-Z]')\n",
        "for word in words:\n",
        "  word = regex.sub(' ', word)\n",
        "  if len(word)>0:\n",
        "    word = word.lower()\n",
        "    words_set.add(word)\n",
        "words = words_set\n",
        "\n",
        "word_to_idx_2 = {word:i for i, word in enumerate(words)}\n",
        "tag_to_idx_2 = {tag:i for i, tag in enumerate(tags) }\n",
        "tag_to_idx_2['START'] = len(tag_to_idx_2)\n",
        "tag_to_idx_2['END'] = len(tag_to_idx_2)\n",
        "print(tag_to_idx_2)\n",
        "\n",
        "# convert data to indexes\n",
        "indexed_data2 = []\n",
        "agg_func = lambda s: [(w, t) for w, t in zip(s[\"Word\"].values.tolist(),\n",
        "                                              s[\"Tag\"].values.tolist())]\n",
        "grouped = data.groupby(\"Sentence #\").apply(agg_func)\n",
        "sentences = [s for s in grouped]\n",
        "for sent in sentences:\n",
        "  indexed_sent, indexed_tags = [], []\n",
        "  for w, t in sent:\n",
        "    if w.lower() in word_to_idx_2:\n",
        "      indexed_sent.append(word_to_idx_2[w.lower()])\n",
        "      indexed_tags.append(tag_to_idx_2[t])\n",
        "  indexed_data2.append((indexed_sent, indexed_tags))\n",
        "\n",
        "# split on train, validation and test sets\n",
        "train2, test2 = train_test_split(indexed_data2, test_size = 0.3)\n",
        "train2, validation2 = train_test_split(indexed_data2, test_size = 0.3)\n",
        "print(f'train size: {len(train2)}')\n",
        "print(f'validation size: {len(validation2)}')\n",
        "print(f'test size: {len(test2)}')"
      ],
      "execution_count": 13,
      "outputs": [
        {
          "output_type": "stream",
          "text": [
            "Sentences: 47959\n",
            "Words: 35178\n",
            "Tags: 17\n",
            "{'I-art': 0, 'I-geo': 1, 'B-gpe': 2, 'B-nat': 3, 'I-per': 4, 'I-eve': 5, 'B-eve': 6, 'I-tim': 7, 'B-per': 8, 'B-org': 9, 'O': 10, 'B-art': 11, 'I-gpe': 12, 'I-nat': 13, 'B-tim': 14, 'B-geo': 15, 'I-org': 16, 'START': 17, 'END': 18}\n",
            "train size: 33571\n",
            "validation size: 14388\n",
            "test size: 14388\n"
          ],
          "name": "stdout"
        }
      ]
    },
    {
      "cell_type": "markdown",
      "metadata": {
        "id": "qkbM5UC2rLcU",
        "colab_type": "text"
      },
      "source": [
        "### Pytorch implementation"
      ]
    },
    {
      "cell_type": "code",
      "metadata": {
        "id": "1DZ4cqX_r0pZ",
        "colab_type": "code",
        "colab": {}
      },
      "source": [
        "def argmax(vec):\n",
        "    _, idx = torch.max(vec, 1)\n",
        "    return idx.item()\n",
        "\n",
        "def log_sum_exp(vec):\n",
        "    max_score = vec[0, argmax(vec)]\n",
        "    max_score_broadcast = max_score.view(1, -1).expand(1, vec.size()[1])\n",
        "    return max_score + torch.log(torch.sum(torch.exp(vec - max_score_broadcast)))"
      ],
      "execution_count": 0,
      "outputs": []
    },
    {
      "cell_type": "code",
      "metadata": {
        "colab_type": "code",
        "id": "qV6qCxeJ4cMK",
        "colab": {}
      },
      "source": [
        "class BiLSTM_CRF(nn.Module):\n",
        "  def __init__(self, vocab_size, tag_to_ix, embedding_dim, hidden_dim):\n",
        "      super(BiLSTM_CRF, self).__init__()\n",
        "      self.embedding_dim = embedding_dim\n",
        "      self.hidden_dim = hidden_dim\n",
        "      self.vocab_size = vocab_size\n",
        "      self.tag_to_ix = tag_to_ix\n",
        "      self.tagset_size = len(tag_to_ix)\n",
        "\n",
        "      self.word_embeds = nn.Embedding(vocab_size, embedding_dim)\n",
        "      self.lstm = nn.LSTM(embedding_dim, hidden_dim // 2,\n",
        "                          num_layers=1, bidirectional=True)\n",
        "\n",
        "      # Maps the output of the LSTM into tag space.\n",
        "      self.hidden2tag = nn.Linear(hidden_dim, self.tagset_size)\n",
        "\n",
        "      # Matrix of transition parameters.  Entry i,j is the score of\n",
        "      # transitioning *to* i *from* j.\n",
        "      self.transitions = nn.Parameter(\n",
        "          torch.randn(self.tagset_size, self.tagset_size))\n",
        "\n",
        "      # These two statements enforce the constraint that we never transfer\n",
        "      # to the start tag and we never transfer from the stop tag\n",
        "      self.transitions.data[tag_to_ix['START'], :] = -10000\n",
        "      self.transitions.data[:, tag_to_ix['END']] = -10000\n",
        "\n",
        "      self.hidden = self.init_hidden()\n",
        "\n",
        "  def init_hidden(self):\n",
        "      return (torch.randn(2, 1, self.hidden_dim // 2),\n",
        "              torch.randn(2, 1, self.hidden_dim // 2))\n",
        "\n",
        "  def _forward_alg(self, feats):\n",
        "      # Do the forward algorithm to compute the partition function\n",
        "      init_alphas = torch.full((1, self.tagset_size), -10000.)\n",
        "      # START_TAG has all of the score.\n",
        "      init_alphas[0][self.tag_to_ix['START']] = 0.\n",
        "\n",
        "      # Wrap in a variable so that we will get automatic backprop\n",
        "      forward_var = init_alphas\n",
        "\n",
        "      # Iterate through the sentence\n",
        "      for feat in feats:\n",
        "          alphas_t = []  # The forward tensors at this timestep\n",
        "          for next_tag in range(self.tagset_size):\n",
        "              # broadcast the emission score: it is the same regardless of\n",
        "              # the previous tag\n",
        "              emit_score = feat[next_tag].view(\n",
        "                  1, -1).expand(1, self.tagset_size)\n",
        "              # the ith entry of trans_score is the score of transitioning to\n",
        "              # next_tag from i\n",
        "              trans_score = self.transitions[next_tag].view(1, -1)\n",
        "              # The ith entry of next_tag_var is the value for the\n",
        "              # edge (i -> next_tag) before we do log-sum-exp\n",
        "              next_tag_var = forward_var + trans_score + emit_score\n",
        "              # The forward variable for this tag is log-sum-exp of all the\n",
        "              # scores.\n",
        "              alphas_t.append(log_sum_exp(next_tag_var).view(1))\n",
        "          forward_var = torch.cat(alphas_t).view(1, -1)\n",
        "      terminal_var = forward_var + self.transitions[self.tag_to_ix['END']]\n",
        "      alpha = log_sum_exp(terminal_var)\n",
        "      return alpha\n",
        "\n",
        "  def _get_lstm_features(self, sentence):\n",
        "      self.hidden = self.init_hidden()\n",
        "      embeds = self.word_embeds(sentence).view(len(sentence), 1, -1)\n",
        "      lstm_out, self.hidden = self.lstm(embeds, self.hidden)\n",
        "      lstm_out = lstm_out.view(len(sentence), self.hidden_dim)\n",
        "      lstm_feats = self.hidden2tag(lstm_out)\n",
        "      return lstm_feats\n",
        "\n",
        "  def _score_sentence(self, feats, tags):\n",
        "      # Gives the score of a provided tag sequence\n",
        "      score = torch.zeros(1)\n",
        "      tags = torch.cat([torch.tensor([self.tag_to_ix['START']], dtype=torch.long), tags])\n",
        "      for i, feat in enumerate(feats):\n",
        "          score = score + \\\n",
        "              self.transitions[tags[i + 1], tags[i]] + feat[tags[i + 1]]\n",
        "      score = score + self.transitions[self.tag_to_ix['END'], tags[-1]]\n",
        "      return score\n",
        "\n",
        "  def _viterbi_decode(self, feats):\n",
        "      backpointers = []\n",
        "\n",
        "      # Initialize the viterbi variables in log space\n",
        "      init_vvars = torch.full((1, self.tagset_size), -10000.)\n",
        "      init_vvars[0][self.tag_to_ix['START']] = 0\n",
        "\n",
        "      # forward_var at step i holds the viterbi variables for step i-1\n",
        "      forward_var = init_vvars\n",
        "      for feat in feats:\n",
        "          bptrs_t = []  # holds the backpointers for this step\n",
        "          viterbivars_t = []  # holds the viterbi variables for this step\n",
        "\n",
        "          for next_tag in range(self.tagset_size):\n",
        "              # next_tag_var[i] holds the viterbi variable for tag i at the\n",
        "              # previous step, plus the score of transitioning\n",
        "              # from tag i to next_tag.\n",
        "              # We don't include the emission scores here because the max\n",
        "              # does not depend on them (we add them in below)\n",
        "              next_tag_var = forward_var + self.transitions[next_tag]\n",
        "              best_tag_id = argmax(next_tag_var)\n",
        "              bptrs_t.append(best_tag_id)\n",
        "              viterbivars_t.append(next_tag_var[0][best_tag_id].view(1))\n",
        "          # Now add in the emission scores, and assign forward_var to the set\n",
        "          # of viterbi variables we just computed\n",
        "          forward_var = (torch.cat(viterbivars_t) + feat).view(1, -1)\n",
        "          backpointers.append(bptrs_t)\n",
        "\n",
        "      # Transition to STOP_TAG\n",
        "      terminal_var = forward_var + self.transitions[self.tag_to_ix['END']]\n",
        "      best_tag_id = argmax(terminal_var)\n",
        "      path_score = terminal_var[0][best_tag_id]\n",
        "\n",
        "      # Follow the back pointers to decode the best path.\n",
        "      best_path = [best_tag_id]\n",
        "      for bptrs_t in reversed(backpointers):\n",
        "          best_tag_id = bptrs_t[best_tag_id]\n",
        "          best_path.append(best_tag_id)\n",
        "      # Pop off the start tag (we dont want to return that to the caller)\n",
        "      start = best_path.pop()\n",
        "      assert start == self.tag_to_ix['START']  # Sanity check\n",
        "      best_path.reverse()\n",
        "      return path_score, best_path\n",
        "\n",
        "  def neg_log_likelihood(self, sentence, tags):\n",
        "      feats = self._get_lstm_features(sentence)\n",
        "      forward_score = self._forward_alg(feats)\n",
        "      gold_score = self._score_sentence(feats, tags)\n",
        "      return forward_score - gold_score\n",
        "\n",
        "  def forward(self, sentence):  # dont confuse this with _forward_alg above.\n",
        "      # Get the emission scores from the BiLSTM\n",
        "      lstm_feats = self._get_lstm_features(sentence)\n",
        "\n",
        "      # Find the best path, given the features.\n",
        "      score, tag_seq = self._viterbi_decode(lstm_feats)\n",
        "      return tag_seq"
      ],
      "execution_count": 0,
      "outputs": []
    },
    {
      "cell_type": "markdown",
      "metadata": {
        "id": "TF3XEgkWu3al",
        "colab_type": "text"
      },
      "source": [
        "## Training on Broad Twitter Corpus \n",
        "First lets see if model is able to learn something without transfer learning"
      ]
    },
    {
      "cell_type": "code",
      "metadata": {
        "id": "agSv973jA9U3",
        "colab_type": "code",
        "colab": {}
      },
      "source": [
        "def compute_f1(true, predicted):\n",
        "  f1 = {}\n",
        "  for tag in tag_to_idx:\n",
        "    idx = np.where(true == tag_to_idx[tag])\n",
        "    true_tag = np.zeros(len(true))\n",
        "    true_tag[idx] = 1\n",
        "    idx = np.where(true == tag_to_idx[tag])\n",
        "    predicted_tag = np.zeros(len(predicted))\n",
        "    predicted_tag[idx] = 1\n",
        "    score = f1_score(true_tag, predicted_tag)\n",
        "    f1[tag] = score\n",
        "  return f1\n",
        "\n",
        "\n",
        "def train_epoch(sentence, tags, training = True):\n",
        "  if training:\n",
        "    model.train()\n",
        "  else:\n",
        "    model.eval()\n",
        "  model.zero_grad()\n",
        "  optimizer.zero_grad()\n",
        "  sentence_in = torch.tensor(sentence, dtype=torch.long)\n",
        "  targets = torch.tensor(tags, dtype=torch.long)\n",
        "  loss = model.neg_log_likelihood(sentence_in, targets)\n",
        "  if training:\n",
        "    loss.backward()\n",
        "    optimizer.step()\n",
        "  # compute metrics\n",
        "  return loss.item(), model(sentence_in)\n",
        "  \n",
        "def train(train_data, validation_data, epochs = 10):\n",
        "  t_loss_plot, v_loss_plot = [], []\n",
        "  t_f1_overall_plot, v_f1_overall_plot = [], []\n",
        "  for e in range(epochs):\n",
        "    T_loss, V_loss = [], []\n",
        "    T_true, T_pred, V_true, V_pred = [], [], [], []\n",
        "    for sentence, tags in train_data:\n",
        "      if len(sentence) <1:\n",
        "        continue\n",
        "      t_out = train_epoch(sentence, tags)\n",
        "      T_loss.append(t_out[0])\n",
        "      T_true.extend(tags), T_pred.extend(t_out[1])\n",
        "    train_f1 = f1_score(T_true, T_pred, average='macro')\n",
        "    train_f1_per_class = compute_f1(T_true, T_pred)\n",
        "    # validation step\n",
        "    for sentence, tags in validation_data:\n",
        "      if len(sentence) <1:\n",
        "        continue\n",
        "      v_out = train_epoch(sentence, tags, training = False)\n",
        "      V_loss.append(v_out[0]), V_true.extend(tags), V_pred.extend(v_out[1])\n",
        "    valid_f1 = f1_score(V_true, V_pred, average='macro')\n",
        "    valid_f1__per_class = compute_f1(V_true, V_pred)\n",
        "    \n",
        "    # for making plots at the end\n",
        "    t_loss_plot.append(np.mean(T_loss)), v_loss_plot.append(np.mean(V_loss))\n",
        "    t_f1_overall_plot.append(train_f1), v_f1_overall_plot.append(valid_f1)\n",
        "\n",
        "    print(f'epoch {e} tr loss {np.mean(T_loss)} val loss {np.mean(V_loss)} tr f1 {train_f1} val f1 {valid_f1}')\n",
        "    print('===================== Train per class F1 score ==============================')\n",
        "    print(classification_report(T_true, T_pred))\n",
        "    print('===================== Valid per class F1 score ==============================')\n",
        "    print( classification_report(V_true, V_pred) )\n",
        "\n",
        "  return t_loss_plot, v_loss_plot, t_f1_overall_plot, v_f1_overall_plot"
      ],
      "execution_count": 0,
      "outputs": []
    },
    {
      "cell_type": "code",
      "metadata": {
        "id": "xP1eUUdusu6Q",
        "colab_type": "code",
        "outputId": "19aa7e53-983b-4b17-aa63-9a3e557426c8",
        "colab": {
          "base_uri": "https://localhost:8080/",
          "height": 1000
        }
      },
      "source": [
        "model = BiLSTM_CRF(len(word_to_idx), tag_to_idx, embedding_dim = 100, hidden_dim = 32)\n",
        "optimizer = optim.SGD(model.parameters(), lr=0.01, weight_decay=1e-4)\n",
        "\n",
        "out = train(indexed_train, indexed_validation)"
      ],
      "execution_count": 0,
      "outputs": [
        {
          "output_type": "stream",
          "text": [
            "epoch 0 tr loss 6.498764228909281 val loss 5.412286903984573 tr f1 0.2170148086568491 val f1 0.3098017690614565\n",
            "===================== Train per class F1 score ==============================\n",
            "              precision    recall  f1-score   support\n",
            "\n",
            "           0       0.55      0.03      0.06      1102\n",
            "           1       0.70      0.16      0.26      5498\n",
            "           2       0.82      0.04      0.07      1992\n",
            "           3       0.89      1.00      0.94     91615\n",
            "           4       0.78      0.05      0.09       824\n",
            "           5       0.89      0.04      0.09      2911\n",
            "           6       1.00      0.01      0.01       667\n",
            "\n",
            "    accuracy                           0.88    104609\n",
            "   macro avg       0.80      0.19      0.22    104609\n",
            "weighted avg       0.87      0.88      0.84    104609\n",
            "\n",
            "===================== Valid per class F1 score ==============================\n",
            "              precision    recall  f1-score   support\n",
            "\n",
            "           0       0.35      0.06      0.10       438\n",
            "           1       0.48      0.25      0.33      2326\n",
            "           2       0.60      0.15      0.24       818\n",
            "           3       0.90      0.98      0.94     38915\n",
            "           4       0.70      0.13      0.22       348\n",
            "           5       0.37      0.10      0.16      1184\n",
            "           6       0.45      0.11      0.17       290\n",
            "\n",
            "    accuracy                           0.88     44319\n",
            "   macro avg       0.55      0.25      0.31     44319\n",
            "weighted avg       0.85      0.88      0.86     44319\n",
            "\n",
            "epoch 1 tr loss 4.923814043372717 val loss 4.86691154377838 tr f1 0.4547331191989879 val f1 0.38876725656411276\n",
            "===================== Train per class F1 score ==============================\n",
            "              precision    recall  f1-score   support\n",
            "\n",
            "           0       0.70      0.25      0.37      1102\n",
            "           1       0.70      0.45      0.55      5498\n",
            "           2       0.83      0.28      0.42      1992\n",
            "           3       0.92      0.99      0.95     91615\n",
            "           4       0.84      0.18      0.29       824\n",
            "           5       0.82      0.14      0.23      2911\n",
            "           6       0.68      0.25      0.36       667\n",
            "\n",
            "    accuracy                           0.91    104609\n",
            "   macro avg       0.79      0.36      0.45    104609\n",
            "weighted avg       0.90      0.91      0.89    104609\n",
            "\n",
            "===================== Valid per class F1 score ==============================\n",
            "              precision    recall  f1-score   support\n",
            "\n",
            "           0       0.51      0.21      0.29       438\n",
            "           1       0.51      0.36      0.42      2326\n",
            "           2       0.58      0.24      0.34       818\n",
            "           3       0.92      0.98      0.94     38915\n",
            "           4       0.59      0.16      0.26       348\n",
            "           5       0.33      0.15      0.21      1184\n",
            "           6       0.49      0.18      0.26       290\n",
            "\n",
            "    accuracy                           0.89     44319\n",
            "   macro avg       0.56      0.32      0.39     44319\n",
            "weighted avg       0.86      0.89      0.87     44319\n",
            "\n",
            "epoch 2 tr loss 4.320473522864926 val loss 4.654630366104241 tr f1 0.5883087817108417 val f1 0.41605638451048715\n",
            "===================== Train per class F1 score ==============================\n",
            "              precision    recall  f1-score   support\n",
            "\n",
            "           0       0.75      0.45      0.56      1102\n",
            "           1       0.72      0.58      0.64      5498\n",
            "           2       0.82      0.46      0.59      1992\n",
            "           3       0.94      0.99      0.96     91615\n",
            "           4       0.78      0.30      0.43       824\n",
            "           5       0.80      0.21      0.34      2911\n",
            "           6       0.72      0.50      0.59       667\n",
            "\n",
            "    accuracy                           0.92    104609\n",
            "   macro avg       0.79      0.50      0.59    104609\n",
            "weighted avg       0.92      0.92      0.91    104609\n",
            "\n",
            "===================== Valid per class F1 score ==============================\n",
            "              precision    recall  f1-score   support\n",
            "\n",
            "           0       0.51      0.26      0.34       438\n",
            "           1       0.53      0.38      0.44      2326\n",
            "           2       0.56      0.30      0.39       818\n",
            "           3       0.92      0.97      0.95     38915\n",
            "           4       0.50      0.18      0.27       348\n",
            "           5       0.35      0.17      0.23      1184\n",
            "           6       0.46      0.22      0.29       290\n",
            "\n",
            "    accuracy                           0.89     44319\n",
            "   macro avg       0.55      0.35      0.42     44319\n",
            "weighted avg       0.87      0.89      0.88     44319\n",
            "\n",
            "epoch 3 tr loss 3.896752252080294 val loss 4.610824074506158 tr f1 0.65696509042149 val f1 0.42776818539591627\n",
            "===================== Train per class F1 score ==============================\n",
            "              precision    recall  f1-score   support\n",
            "\n",
            "           0       0.79      0.61      0.69      1102\n",
            "           1       0.74      0.66      0.70      5498\n",
            "           2       0.83      0.58      0.68      1992\n",
            "           3       0.95      0.99      0.97     91615\n",
            "           4       0.75      0.37      0.50       824\n",
            "           5       0.79      0.29      0.42      2911\n",
            "           6       0.69      0.59      0.64       667\n",
            "\n",
            "    accuracy                           0.94    104609\n",
            "   macro avg       0.79      0.58      0.66    104609\n",
            "weighted avg       0.93      0.94      0.93    104609\n",
            "\n",
            "===================== Valid per class F1 score ==============================\n",
            "              precision    recall  f1-score   support\n",
            "\n",
            "           0       0.50      0.30      0.38       438\n",
            "           1       0.51      0.39      0.44      2326\n",
            "           2       0.55      0.33      0.41       818\n",
            "           3       0.93      0.97      0.95     38915\n",
            "           4       0.47      0.19      0.27       348\n",
            "           5       0.35      0.21      0.26      1184\n",
            "           6       0.39      0.22      0.29       290\n",
            "\n",
            "    accuracy                           0.89     44319\n",
            "   macro avg       0.53      0.37      0.43     44319\n",
            "weighted avg       0.87      0.89      0.88     44319\n",
            "\n",
            "epoch 4 tr loss 3.5661645916268836 val loss 4.658552732013685 tr f1 0.7063503943434811 val f1 0.44157840602759213\n",
            "===================== Train per class F1 score ==============================\n",
            "              precision    recall  f1-score   support\n",
            "\n",
            "           0       0.80      0.70      0.75      1102\n",
            "           1       0.77      0.73      0.75      5498\n",
            "           2       0.83      0.65      0.73      1992\n",
            "           3       0.96      0.99      0.98     91615\n",
            "           4       0.77      0.46      0.57       824\n",
            "           5       0.81      0.35      0.49      2911\n",
            "           6       0.71      0.65      0.68       667\n",
            "\n",
            "    accuracy                           0.94    104609\n",
            "   macro avg       0.81      0.65      0.71    104609\n",
            "weighted avg       0.94      0.94      0.94    104609\n",
            "\n",
            "===================== Valid per class F1 score ==============================\n",
            "              precision    recall  f1-score   support\n",
            "\n",
            "           0       0.46      0.35      0.40       438\n",
            "           1       0.52      0.42      0.47      2326\n",
            "           2       0.53      0.34      0.42       818\n",
            "           3       0.93      0.96      0.95     38915\n",
            "           4       0.46      0.21      0.29       348\n",
            "           5       0.30      0.24      0.27      1184\n",
            "           6       0.40      0.24      0.30       290\n",
            "\n",
            "    accuracy                           0.89     44319\n",
            "   macro avg       0.52      0.40      0.44     44319\n",
            "weighted avg       0.87      0.89      0.88     44319\n",
            "\n",
            "epoch 5 tr loss 3.2742299765915264 val loss 4.788266955924903 tr f1 0.7466896393727925 val f1 0.45013712303838277\n",
            "===================== Train per class F1 score ==============================\n",
            "              precision    recall  f1-score   support\n",
            "\n",
            "           0       0.85      0.77      0.81      1102\n",
            "           1       0.78      0.77      0.78      5498\n",
            "           2       0.85      0.72      0.78      1992\n",
            "           3       0.97      0.99      0.98     91615\n",
            "           4       0.79      0.54      0.64       824\n",
            "           5       0.81      0.41      0.54      2911\n",
            "           6       0.72      0.69      0.71       667\n",
            "\n",
            "    accuracy                           0.95    104609\n",
            "   macro avg       0.82      0.70      0.75    104609\n",
            "weighted avg       0.95      0.95      0.95    104609\n",
            "\n",
            "===================== Valid per class F1 score ==============================\n",
            "              precision    recall  f1-score   support\n",
            "\n",
            "           0       0.46      0.39      0.42       438\n",
            "           1       0.52      0.44      0.47      2326\n",
            "           2       0.51      0.37      0.43       818\n",
            "           3       0.94      0.96      0.95     38915\n",
            "           4       0.38      0.23      0.29       348\n",
            "           5       0.29      0.29      0.29      1184\n",
            "           6       0.38      0.25      0.30       290\n",
            "\n",
            "    accuracy                           0.89     44319\n",
            "   macro avg       0.50      0.42      0.45     44319\n",
            "weighted avg       0.88      0.89      0.88     44319\n",
            "\n",
            "epoch 6 tr loss 3.0151895020500996 val loss 4.702238843538165 tr f1 0.7682790456339142 val f1 0.46234523338941386\n",
            "===================== Train per class F1 score ==============================\n",
            "              precision    recall  f1-score   support\n",
            "\n",
            "           0       0.85      0.79      0.82      1102\n",
            "           1       0.80      0.80      0.80      5498\n",
            "           2       0.84      0.75      0.79      1992\n",
            "           3       0.97      0.99      0.98     91615\n",
            "           4       0.82      0.59      0.68       824\n",
            "           5       0.81      0.46      0.58      2911\n",
            "           6       0.70      0.72      0.71       667\n",
            "\n",
            "    accuracy                           0.96    104609\n",
            "   macro avg       0.83      0.73      0.77    104609\n",
            "weighted avg       0.95      0.96      0.95    104609\n",
            "\n",
            "===================== Valid per class F1 score ==============================\n",
            "              precision    recall  f1-score   support\n",
            "\n",
            "           0       0.48      0.40      0.44       438\n",
            "           1       0.54      0.43      0.48      2326\n",
            "           2       0.55      0.38      0.45       818\n",
            "           3       0.94      0.96      0.95     38915\n",
            "           4       0.38      0.25      0.30       348\n",
            "           5       0.32      0.28      0.30      1184\n",
            "           6       0.42      0.26      0.32       290\n",
            "\n",
            "    accuracy                           0.89     44319\n",
            "   macro avg       0.52      0.42      0.46     44319\n",
            "weighted avg       0.88      0.89      0.88     44319\n",
            "\n",
            "epoch 7 tr loss 2.7769564368984 val loss 4.88486587171558 tr f1 0.7954942756353925 val f1 0.4686593145889015\n",
            "===================== Train per class F1 score ==============================\n",
            "              precision    recall  f1-score   support\n",
            "\n",
            "           0       0.87      0.83      0.85      1102\n",
            "           1       0.81      0.84      0.82      5498\n",
            "           2       0.86      0.78      0.82      1992\n",
            "           3       0.98      0.99      0.99     91615\n",
            "           4       0.83      0.63      0.71       824\n",
            "           5       0.82      0.50      0.62      2911\n",
            "           6       0.74      0.77      0.76       667\n",
            "\n",
            "    accuracy                           0.96    104609\n",
            "   macro avg       0.84      0.76      0.80    104609\n",
            "weighted avg       0.96      0.96      0.96    104609\n",
            "\n",
            "===================== Valid per class F1 score ==============================\n",
            "              precision    recall  f1-score   support\n",
            "\n",
            "           0       0.46      0.42      0.44       438\n",
            "           1       0.53      0.46      0.50      2326\n",
            "           2       0.53      0.38      0.44       818\n",
            "           3       0.94      0.96      0.95     38915\n",
            "           4       0.37      0.25      0.30       348\n",
            "           5       0.35      0.30      0.32      1184\n",
            "           6       0.40      0.28      0.33       290\n",
            "\n",
            "    accuracy                           0.89     44319\n",
            "   macro avg       0.51      0.44      0.47     44319\n",
            "weighted avg       0.88      0.89      0.89     44319\n",
            "\n",
            "epoch 8 tr loss 2.5579117380413257 val loss 5.060797964413158 tr f1 0.8162775701327281 val f1 0.4696655193290519\n",
            "===================== Train per class F1 score ==============================\n",
            "              precision    recall  f1-score   support\n",
            "\n",
            "           0       0.87      0.85      0.86      1102\n",
            "           1       0.82      0.85      0.84      5498\n",
            "           2       0.86      0.79      0.82      1992\n",
            "           3       0.98      0.99      0.99     91615\n",
            "           4       0.83      0.69      0.75       824\n",
            "           5       0.83      0.56      0.67      2911\n",
            "           6       0.79      0.78      0.78       667\n",
            "\n",
            "    accuracy                           0.96    104609\n",
            "   macro avg       0.86      0.79      0.82    104609\n",
            "weighted avg       0.96      0.96      0.96    104609\n",
            "\n",
            "===================== Valid per class F1 score ==============================\n",
            "              precision    recall  f1-score   support\n",
            "\n",
            "           0       0.45      0.43      0.44       438\n",
            "           1       0.53      0.46      0.49      2326\n",
            "           2       0.53      0.37      0.44       818\n",
            "           3       0.94      0.96      0.95     38915\n",
            "           4       0.37      0.27      0.31       348\n",
            "           5       0.32      0.34      0.33      1184\n",
            "           6       0.42      0.27      0.33       290\n",
            "\n",
            "    accuracy                           0.89     44319\n",
            "   macro avg       0.51      0.44      0.47     44319\n",
            "weighted avg       0.88      0.89      0.88     44319\n",
            "\n",
            "epoch 9 tr loss 2.3519665113976735 val loss 5.18341694796425 tr f1 0.834909054985383 val f1 0.4751233920570039\n",
            "===================== Train per class F1 score ==============================\n",
            "              precision    recall  f1-score   support\n",
            "\n",
            "           0       0.89      0.89      0.89      1102\n",
            "           1       0.84      0.87      0.85      5498\n",
            "           2       0.87      0.82      0.85      1992\n",
            "           3       0.98      0.99      0.99     91615\n",
            "           4       0.84      0.71      0.77       824\n",
            "           5       0.83      0.60      0.69      2911\n",
            "           6       0.79      0.82      0.80       667\n",
            "\n",
            "    accuracy                           0.97    104609\n",
            "   macro avg       0.86      0.81      0.83    104609\n",
            "weighted avg       0.97      0.97      0.97    104609\n",
            "\n",
            "===================== Valid per class F1 score ==============================\n",
            "              precision    recall  f1-score   support\n",
            "\n",
            "           0       0.44      0.45      0.45       438\n",
            "           1       0.54      0.48      0.51      2326\n",
            "           2       0.52      0.39      0.44       818\n",
            "           3       0.94      0.96      0.95     38915\n",
            "           4       0.35      0.29      0.32       348\n",
            "           5       0.33      0.34      0.33      1184\n",
            "           6       0.38      0.29      0.33       290\n",
            "\n",
            "    accuracy                           0.89     44319\n",
            "   macro avg       0.50      0.46      0.48     44319\n",
            "weighted avg       0.88      0.89      0.89     44319\n",
            "\n"
          ],
          "name": "stdout"
        }
      ]
    },
    {
      "cell_type": "markdown",
      "metadata": {
        "id": "MY6D9Rwig6T3",
        "colab_type": "text"
      },
      "source": [
        "### Plot Trainig process on Broad Twitter Corpus "
      ]
    },
    {
      "cell_type": "code",
      "metadata": {
        "id": "g6phXsnAhC2G",
        "colab_type": "code",
        "outputId": "96bc2876-4f9c-4704-f17c-4c8fc331fa20",
        "colab": {
          "base_uri": "https://localhost:8080/",
          "height": 541
        }
      },
      "source": [
        "plt.plot(out[0], label = 'train')\n",
        "plt.plot(out[1], label = 'validation')\n",
        "plt.legend()\n",
        "plt.xlabel('epoch')\n",
        "plt.ylabel('loss')\n",
        "plt.show()\n",
        "\n",
        "plt.plot(out[2], label = 'train')\n",
        "plt.plot(out[3], label = 'validation')\n",
        "plt.xlabel('epoch')\n",
        "plt.ylabel('f1-score')\n",
        "plt.legend()\n",
        "plt.show()"
      ],
      "execution_count": 0,
      "outputs": [
        {
          "output_type": "display_data",
          "data": {
            "image/png": "[encoded data removed]",
            "text/plain": [
              "<Figure size 432x288 with 1 Axes>"
            ]
          },
          "metadata": {
            "tags": []
          }
        },
        {
          "output_type": "display_data",
          "data": {
            "image/png": "[encoded data removed]",
            "text/plain": [
              "<Figure size 432x288 with 1 Axes>"
            ]
          },
          "metadata": {
            "tags": []
          }
        }
      ]
    },
    {
      "cell_type": "markdown",
      "metadata": {
        "id": "g53j9vOUg9Dz",
        "colab_type": "text"
      },
      "source": [
        "### Calculate metrics on test set of Broad Twitter Corpus "
      ]
    },
    {
      "cell_type": "code",
      "metadata": {
        "id": "0f7cGbXuhBAd",
        "colab_type": "code",
        "outputId": "856770a0-a21b-4049-fab5-237f92012bd8",
        "colab": {
          "base_uri": "https://localhost:8080/",
          "height": 295
        }
      },
      "source": [
        "T_true, T_pred = [], []\n",
        "for sentence, tags in indexed_test:\n",
        "    if len(sentence) <1:\n",
        "      continue\n",
        "    sentence_in = torch.tensor(sentence, dtype=torch.long)\n",
        "    prediction = model(sentence_in)\n",
        "    T_true.extend(tags), T_pred.extend(prediction)\n",
        "\n",
        "test_f1 = f1_score(T_true, T_pred, average='macro')\n",
        "print('Evaluating on test set')\n",
        "print(f'overall f1: {test_f1}')\n",
        "print(classification_report(T_true, T_pred))"
      ],
      "execution_count": 0,
      "outputs": [
        {
          "output_type": "stream",
          "text": [
            "Evaluating on test set\n",
            "overall f1: 0.3721372571175189\n",
            "              precision    recall  f1-score   support\n",
            "\n",
            "           0       0.60      0.43      0.50        14\n",
            "           1       0.59      0.49      0.53       104\n",
            "           2       0.56      0.42      0.48        12\n",
            "           3       0.94      0.97      0.95      1274\n",
            "           4       0.00      0.00      0.00         4\n",
            "           5       0.16      0.12      0.14        40\n",
            "           6       0.00      0.00      0.00         1\n",
            "\n",
            "    accuracy                           0.90      1449\n",
            "   macro avg       0.41      0.35      0.37      1449\n",
            "weighted avg       0.89      0.90      0.89      1449\n",
            "\n"
          ],
          "name": "stdout"
        }
      ]
    },
    {
      "cell_type": "markdown",
      "metadata": {
        "id": "P0NNNfTqmot4",
        "colab_type": "text"
      },
      "source": [
        "### Pretraining on Annotated Corpus"
      ]
    },
    {
      "cell_type": "code",
      "metadata": {
        "id": "gb4AMbj4mrZZ",
        "colab_type": "code",
        "colab": {}
      },
      "source": [
        "model = BiLSTM_CRF(len(word_to_idx_2), tag_to_idx_2, embedding_dim = 100, hidden_dim = 32)\n",
        "optimizer = optim.SGD(model.parameters(), lr=0.01, weight_decay=1e-4)\n",
        "\n",
        "out = train(train2, validation2, epochs = 1)"
      ],
      "execution_count": 0,
      "outputs": []
    },
    {
      "cell_type": "code",
      "metadata": {
        "id": "zsN1bLC8cjAd",
        "colab_type": "code",
        "colab": {}
      },
      "source": [
        "# save pretrained model\n",
        "torch.save(model.state_dict(), 'trained_model_state_dict3')\n",
        "torch.save(model, 'trained_model_itself3')"
      ],
      "execution_count": 0,
      "outputs": []
    },
    {
      "cell_type": "markdown",
      "metadata": {
        "id": "mbX51v56ncro",
        "colab_type": "text"
      },
      "source": [
        "### Plot training process of pretraining on Annotated Corpus"
      ]
    },
    {
      "cell_type": "code",
      "metadata": {
        "id": "sPEwoh0ungLH",
        "colab_type": "code",
        "outputId": "bb1670dc-8bce-4673-c754-e7a7214cac30",
        "colab": {
          "base_uri": "https://localhost:8080/",
          "height": 541
        }
      },
      "source": [
        "plt.plot(out[0], label = 'train')\n",
        "plt.plot(out[1], label = 'validation')\n",
        "plt.legend()\n",
        "plt.xlabel('epoch')\n",
        "plt.ylabel('loss')\n",
        "plt.show()\n",
        "\n",
        "plt.plot(out[2], label = 'train')\n",
        "plt.plot(out[3], label = 'validation')\n",
        "plt.xlabel('epoch')\n",
        "plt.ylabel('f1-score')\n",
        "plt.legend()\n",
        "plt.show()"
      ],
      "execution_count": 0,
      "outputs": [
        {
          "output_type": "display_data",
          "data": {
            "image/png": "[encoded data removed]",
            "text/plain": [
              "<Figure size 432x288 with 1 Axes>"
            ]
          },
          "metadata": {
            "tags": []
          }
        },
        {
          "output_type": "display_data",
          "data": {
            "image/png": "[encoded data removed]",
            "text/plain": [
              "<Figure size 432x288 with 1 Axes>"
            ]
          },
          "metadata": {
            "tags": []
          }
        }
      ]
    },
    {
      "cell_type": "markdown",
      "metadata": {
        "id": "rFDZ9AF5n4SD",
        "colab_type": "text"
      },
      "source": [
        "### Asses on test of Annotated Corpus"
      ]
    },
    {
      "cell_type": "code",
      "metadata": {
        "id": "cPPLNUwkn3dm",
        "colab_type": "code",
        "outputId": "6d8ad15e-3167-40a7-f864-b9f2c5532bad",
        "colab": {
          "base_uri": "https://localhost:8080/",
          "height": 364
        }
      },
      "source": [
        "T_true, T_pred = [], []\n",
        "for sentence, tags in indexed_test:\n",
        "    if len(sentence) <1:\n",
        "      continue\n",
        "    sentence_in = torch.tensor(sentence, dtype=torch.long)\n",
        "    prediction = model(sentence_in)\n",
        "    T_true.extend(tags), T_pred.extend(prediction)\n",
        "\n",
        "test_f1 = f1_score(T_true, T_pred, average='macro')\n",
        "print('Evaluating on test set')\n",
        "print(f'overall f1: {test_f1}')\n",
        "print(classification_report(T_true, T_pred))"
      ],
      "execution_count": 0,
      "outputs": [
        {
          "output_type": "stream",
          "text": [
            "Evaluating on test set\n",
            "overall f1: 0.0037883733383975303\n",
            "              precision    recall  f1-score   support\n",
            "\n",
            "           0       0.00      0.17      0.01        12\n",
            "           1       0.00      0.00      0.00      1274\n",
            "           2       0.02      0.25      0.03        40\n",
            "           3       0.00      0.00      0.00       104\n",
            "           4       0.00      0.00      0.00        14\n",
            "           5       0.00      0.00      0.00         1\n",
            "           6       0.00      0.00      0.00         4\n",
            "           9       0.00      0.00      0.00         0\n",
            "          12       0.00      0.00      0.00         0\n",
            "          13       0.00      0.00      0.00         0\n",
            "          14       0.00      0.00      0.00         0\n",
            "\n",
            "    accuracy                           0.01      1449\n",
            "   macro avg       0.00      0.04      0.00      1449\n",
            "weighted avg       0.00      0.01      0.00      1449\n",
            "\n"
          ],
          "name": "stdout"
        }
      ]
    },
    {
      "cell_type": "markdown",
      "metadata": {
        "id": "v6fdfFM4oYPS",
        "colab_type": "text"
      },
      "source": [
        "### Load pretrained model and continue training on Broad Twitter Corpus"
      ]
    },
    {
      "cell_type": "code",
      "metadata": {
        "id": "D-bYLQ-Uogty",
        "colab_type": "code",
        "outputId": "107ea1e6-f64c-4fd9-89f8-08b2a74bd132",
        "colab": {
          "base_uri": "https://localhost:8080/",
          "height": 201
        }
      },
      "source": [
        "the_model = torch.load('/content/trained_model_itself3')\n",
        "\n",
        "model = BiLSTM_CRF(len(word_to_idx), tag_to_idx, embedding_dim = 100, hidden_dim = 32)\n",
        "model.lstm = the_model.lstm\n",
        "optimizer = optim.SGD(model.parameters(), lr=0.01, weight_decay=1e-4)\n",
        "\n",
        "out = train(indexed_train, indexed_validation)"
      ],
      "execution_count": 9,
      "outputs": [
        {
          "output_type": "error",
          "ename": "NameError",
          "evalue": "ignored",
          "traceback": [
            "\u001b[0;31m---------------------------------------------------------------------------\u001b[0m",
            "\u001b[0;31mNameError\u001b[0m                                 Traceback (most recent call last)",
            "\u001b[0;32m<ipython-input-9-a61e10fc8484>\u001b[0m in \u001b[0;36m<module>\u001b[0;34m()\u001b[0m\n\u001b[1;32m      5\u001b[0m \u001b[0moptimizer\u001b[0m \u001b[0;34m=\u001b[0m \u001b[0moptim\u001b[0m\u001b[0;34m.\u001b[0m\u001b[0mSGD\u001b[0m\u001b[0;34m(\u001b[0m\u001b[0mmodel\u001b[0m\u001b[0;34m.\u001b[0m\u001b[0mparameters\u001b[0m\u001b[0;34m(\u001b[0m\u001b[0;34m)\u001b[0m\u001b[0;34m,\u001b[0m \u001b[0mlr\u001b[0m\u001b[0;34m=\u001b[0m\u001b[0;36m0.01\u001b[0m\u001b[0;34m,\u001b[0m \u001b[0mweight_decay\u001b[0m\u001b[0;34m=\u001b[0m\u001b[0;36m1e-4\u001b[0m\u001b[0;34m)\u001b[0m\u001b[0;34m\u001b[0m\u001b[0;34m\u001b[0m\u001b[0m\n\u001b[1;32m      6\u001b[0m \u001b[0;34m\u001b[0m\u001b[0m\n\u001b[0;32m----> 7\u001b[0;31m \u001b[0mout\u001b[0m \u001b[0;34m=\u001b[0m \u001b[0mtrain\u001b[0m\u001b[0;34m(\u001b[0m\u001b[0mindexed_train\u001b[0m\u001b[0;34m,\u001b[0m \u001b[0mindexed_validation\u001b[0m\u001b[0;34m)\u001b[0m\u001b[0;34m\u001b[0m\u001b[0;34m\u001b[0m\u001b[0m\n\u001b[0m",
            "\u001b[0;31mNameError\u001b[0m: name 'train' is not defined"
          ]
        }
      ]
    },
    {
      "cell_type": "markdown",
      "metadata": {
        "id": "gDv-JJLHSXSZ",
        "colab_type": "text"
      },
      "source": [
        "### Plot training process"
      ]
    },
    {
      "cell_type": "code",
      "metadata": {
        "id": "MjLxBT9CSXqX",
        "colab_type": "code",
        "colab": {
          "base_uri": "https://localhost:8080/",
          "height": 541
        },
        "outputId": "7b8045ea-fbfa-45ca-d96b-a4de32658021"
      },
      "source": [
        "plt.plot(out[0], label = 'train')\n",
        "plt.plot(out[1], label = 'validation')\n",
        "plt.legend()\n",
        "plt.xlabel('epoch')\n",
        "plt.ylabel('loss')\n",
        "plt.show()\n",
        "\n",
        "plt.plot(out[2], label = 'train')\n",
        "plt.plot(out[3], label = 'validation')\n",
        "plt.xlabel('epoch')\n",
        "plt.ylabel('f1-score')\n",
        "plt.legend()\n",
        "plt.show()"
      ],
      "execution_count": 21,
      "outputs": [
        {
          "output_type": "display_data",
          "data": {
            "image/png": "[encoded data removed]",
            "text/plain": [
              "<Figure size 432x288 with 1 Axes>"
            ]
          },
          "metadata": {
            "tags": []
          }
        },
        {
          "output_type": "display_data",
          "data": {
            "image/png": "[encoded data removed]",
            "text/plain": [
              "<Figure size 432x288 with 1 Axes>"
            ]
          },
          "metadata": {
            "tags": []
          }
        }
      ]
    },
    {
      "cell_type": "markdown",
      "metadata": {
        "id": "3Tt22Bxr9N2o",
        "colab_type": "text"
      },
      "source": [
        "### Test set performance"
      ]
    },
    {
      "cell_type": "code",
      "metadata": {
        "id": "-f2vyC9X9Qav",
        "colab_type": "code",
        "colab": {
          "base_uri": "https://localhost:8080/",
          "height": 295
        },
        "outputId": "a424d9bf-6ec0-4fcb-a0a5-8bf5697cc3a2"
      },
      "source": [
        "T_true, T_pred = [], []\n",
        "for sentence, tags in indexed_test:\n",
        "    if len(sentence) <1:\n",
        "      continue\n",
        "    sentence_in = torch.tensor(sentence, dtype=torch.long)\n",
        "    prediction = model(sentence_in)\n",
        "    T_true.extend(tags), T_pred.extend(prediction)\n",
        "\n",
        "T_true = [index_to_tag[idx] for idx in T_true ]\n",
        "T_pred = [index_to_tag[idx] for idx in T_pred ]\n",
        "\n",
        "test_f1 = f1_score(T_true, T_pred, average='macro')\n",
        "print('Evaluating on test set')\n",
        "print(f'overall f1: {test_f1}')\n",
        "print(classification_report(T_true, T_pred))"
      ],
      "execution_count": 41,
      "outputs": [
        {
          "output_type": "stream",
          "text": [
            "Evaluating on test set\n",
            "overall f1: 0.337369791782416\n",
            "              precision    recall  f1-score   support\n",
            "\n",
            "       B-LOC       0.60      0.50      0.55        12\n",
            "       B-ORG       0.17      0.07      0.10        40\n",
            "       B-PER       0.62      0.48      0.54       104\n",
            "       I-LOC       0.00      0.00      0.00         1\n",
            "       I-ORG       0.00      0.00      0.00         4\n",
            "       I-PER       0.23      0.21      0.22        14\n",
            "           O       0.93      0.97      0.95      1274\n",
            "\n",
            "    accuracy                           0.89      1449\n",
            "   macro avg       0.36      0.32      0.34      1449\n",
            "weighted avg       0.88      0.89      0.88      1449\n",
            "\n"
          ],
          "name": "stdout"
        }
      ]
    },
    {
      "cell_type": "markdown",
      "metadata": {
        "id": "SfaqyNJyAge-",
        "colab_type": "text"
      },
      "source": [
        "### Common mistakes and correctly predicted tags"
      ]
    },
    {
      "cell_type": "code",
      "metadata": {
        "id": "RqoK9hCoAi2J",
        "colab_type": "code",
        "colab": {
          "base_uri": "https://localhost:8080/",
          "height": 235
        },
        "outputId": "653896a1-88de-4e19-ed8d-84978d476109"
      },
      "source": [
        "def plot_confusion_matrix(cm, classes,\n",
        "                          normalize=False,\n",
        "                          title='Confusion matrix',\n",
        "                          cmap=plt.cm.Blues):\n",
        "    plt.imshow(cm, interpolation='nearest', cmap=cmap)\n",
        "    plt.title(title)\n",
        "    plt.colorbar()\n",
        "    tick_marks = np.arange(len(classes))\n",
        "    plt.xticks(tick_marks, classes, rotation=45)\n",
        "    plt.yticks(tick_marks, classes)\n",
        "\n",
        "    fmt = '.2f' if normalize else 'd'\n",
        "    thresh = cm.max() / 2.\n",
        "    for i, j in itertools.product(range(cm.shape[0]), range(cm.shape[1])):\n",
        "        plt.text(j, i, format(cm[i, j], fmt),\n",
        "                 horizontalalignment=\"center\",\n",
        "                 color=\"white\" if cm[i, j] > thresh else \"black\")\n",
        "\n",
        "    plt.ylabel('True label')\n",
        "    plt.xlabel('Predicted label')\n",
        "    plt.tight_layout()\n",
        "\n",
        "\n",
        "index_to_tag = {tag_to_idx[k]:k for k in tag_to_idx }\n",
        "# make predictions\n",
        "T_true, T_pred = [], []\n",
        "for sentence, tags in indexed_test:\n",
        "    if len(sentence) <1:\n",
        "      continue\n",
        "    sentence_in = torch.tensor(sentence, dtype=torch.long)\n",
        "    prediction = model(sentence_in)\n",
        "    T_true.extend(tags), T_pred.extend(prediction)\n",
        "\n",
        "for sentence, tags in indexed_validation:\n",
        "    if len(sentence) <1:\n",
        "      continue\n",
        "    sentence_in = torch.tensor(sentence, dtype=torch.long)\n",
        "    prediction = model(sentence_in)\n",
        "    T_true.extend(tags), T_pred.extend(prediction)\n",
        "\n",
        "# convert predictions from indexes to words\n",
        "T_true = [index_to_tag[idx] for idx in T_true ]\n",
        "T_pred = [index_to_tag[idx] for idx in T_pred ]\n",
        "\n",
        "classes=np.unique(T_true)\n",
        "cnf_matrix = confusion_matrix(T_true, T_pred,labels=classes)\n",
        "plt.figure()\n",
        "plot_confusion_matrix(cnf_matrix, classes=classes, normalize = False,\n",
        "                      title='Confusion matrix')\n",
        "plt.figure()\n",
        "plot_confusion_matrix(cnf_matrix, classes=classes, normalize = True,\n",
        "                      title='Normalized confusion matrix')"
      ],
      "execution_count": 1,
      "outputs": [
        {
          "output_type": "error",
          "ename": "NameError",
          "evalue": "ignored",
          "traceback": [
            "\u001b[0;31m---------------------------------------------------------------------------\u001b[0m",
            "\u001b[0;31mNameError\u001b[0m                                 Traceback (most recent call last)",
            "\u001b[0;32m<ipython-input-1-9435c607c14c>\u001b[0m in \u001b[0;36m<module>\u001b[0;34m()\u001b[0m\n\u001b[1;32m      2\u001b[0m                           \u001b[0mnormalize\u001b[0m\u001b[0;34m=\u001b[0m\u001b[0;32mFalse\u001b[0m\u001b[0;34m,\u001b[0m\u001b[0;34m\u001b[0m\u001b[0;34m\u001b[0m\u001b[0m\n\u001b[1;32m      3\u001b[0m                           \u001b[0mtitle\u001b[0m\u001b[0;34m=\u001b[0m\u001b[0;34m'Confusion matrix'\u001b[0m\u001b[0;34m,\u001b[0m\u001b[0;34m\u001b[0m\u001b[0;34m\u001b[0m\u001b[0m\n\u001b[0;32m----> 4\u001b[0;31m                           cmap=plt.cm.Blues):\n\u001b[0m\u001b[1;32m      5\u001b[0m     \u001b[0mplt\u001b[0m\u001b[0;34m.\u001b[0m\u001b[0mimshow\u001b[0m\u001b[0;34m(\u001b[0m\u001b[0mcm\u001b[0m\u001b[0;34m,\u001b[0m \u001b[0minterpolation\u001b[0m\u001b[0;34m=\u001b[0m\u001b[0;34m'nearest'\u001b[0m\u001b[0;34m,\u001b[0m \u001b[0mcmap\u001b[0m\u001b[0;34m=\u001b[0m\u001b[0mcmap\u001b[0m\u001b[0;34m)\u001b[0m\u001b[0;34m\u001b[0m\u001b[0;34m\u001b[0m\u001b[0m\n\u001b[1;32m      6\u001b[0m     \u001b[0mplt\u001b[0m\u001b[0;34m.\u001b[0m\u001b[0mtitle\u001b[0m\u001b[0;34m(\u001b[0m\u001b[0mtitle\u001b[0m\u001b[0;34m)\u001b[0m\u001b[0;34m\u001b[0m\u001b[0;34m\u001b[0m\u001b[0m\n",
            "\u001b[0;31mNameError\u001b[0m: name 'plt' is not defined"
          ]
        }
      ]
    }
  ]
}