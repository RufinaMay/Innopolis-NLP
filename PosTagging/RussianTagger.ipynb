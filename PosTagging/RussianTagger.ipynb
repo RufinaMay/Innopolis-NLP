{
 "cells": [
  {
   "cell_type": "code",
   "execution_count": 0,
   "metadata": {
    "colab": {},
    "colab_type": "code",
    "id": "Vboiu_slNkyD"
   },
   "outputs": [],
   "source": [
    "import warnings\n",
    "warnings.filterwarnings('ignore')"
   ]
  },
  {
   "cell_type": "markdown",
   "metadata": {
    "colab_type": "text",
    "id": "YiZzlJ5pnh35"
   },
   "source": [
    "## Download the data"
   ]
  },
  {
   "cell_type": "code",
   "execution_count": 0,
   "metadata": {
    "colab": {},
    "colab_type": "code",
    "id": "nujSlEeEkt4D"
   },
   "outputs": [],
   "source": [
    "from IPython.display import clear_output\n",
    "!curl --remote-name-all https://lindat.mff.cuni.cz/repository/xmlui/bitstream/handle/11234/1-2988{/ud-treebanks-v2.4.tgz,/ud-documentation-v2.4.tgz,/ud-tools-v2.4.tgz}\n",
    "!rm ud-documentation-v2.4.tgz\n",
    "!rm ud-tools-v2.4.tgz\n",
    "# Data for EMBEDDINGS\n",
    "!wget https://dl.fbaipublicfiles.com/fasttext/vectors-crawl/cc.ru.300.vec.gz -O ru.gz\n",
    "clear_output()"
   ]
  },
  {
   "cell_type": "code",
   "execution_count": 0,
   "metadata": {
    "colab": {},
    "colab_type": "code",
    "id": "f0FRaomnzs7i"
   },
   "outputs": [],
   "source": [
    "# unzip external embeddings\n",
    "import gzip\n",
    "import shutil\n",
    "with gzip.open('/content/ru.gz', 'rb') as f_in:\n",
    "    with open('file.txt', 'wb') as f_out:\n",
    "        shutil.copyfileobj(f_in, f_out)\n"
   ]
  },
  {
   "cell_type": "code",
   "execution_count": 4,
   "metadata": {
    "colab": {
     "base_uri": "https://localhost:8080/",
     "height": 195
    },
    "colab_type": "code",
    "id": "gD-fO_9Slegl",
    "outputId": "c1c172b2-48c8-4b21-e775-1b51620db0cc"
   },
   "outputs": [
    {
     "name": "stdout",
     "output_type": "stream",
     "text": [
      "ud-treebanks-v2.4/UD_Russian-GSD\n",
      "ud-treebanks-v2.4/UD_Russian-GSD/README\n",
      "ud-treebanks-v2.4/UD_Russian-GSD/ru_gsd-ud-train\n",
      "ud-treebanks-v2.4/UD_Russian-GSD/ru_gsd-ud-dev\n",
      "ud-treebanks-v2.4/UD_Russian-GSD/ru_gsd-ud-dev\n",
      "ud-treebanks-v2.4/UD_Russian-GSD/ru_gsd-ud-test\n",
      "ud-treebanks-v2.4/UD_Russian-GSD/ru_gsd-ud-test\n",
      "ud-treebanks-v2.4/UD_Russian-GSD/ru_gsd-ud-train\n",
      "ud-treebanks-v2.4/UD_Russian-GSD/stats\n",
      "ud-treebanks-v2.4/UD_Russian-GSD/LICENSE\n"
     ]
    }
   ],
   "source": [
    "LANGUAGE = 'UD_Russian-GSD'\n",
    "import os\n",
    "import tarfile\n",
    "\n",
    "def language_files(members):\n",
    "    for tarinfo in members:\n",
    "        if LANGUAGE in os.path.splitext(tarinfo.name)[0]:\n",
    "          print(os.path.splitext(tarinfo.name)[0])\n",
    "          yield tarinfo\n",
    "\n",
    "tar = tarfile.open(\"/content/ud-treebanks-v2.4.tgz\")\n",
    "tar.extractall(members=language_files(tar))\n",
    "tar.close()"
   ]
  },
  {
   "cell_type": "markdown",
   "metadata": {
    "colab_type": "text",
    "id": "sJLYfRUm3BbT"
   },
   "source": [
    "## Constants"
   ]
  },
  {
   "cell_type": "code",
   "execution_count": 0,
   "metadata": {
    "colab": {},
    "colab_type": "code",
    "id": "tguU8u_G3Azz"
   },
   "outputs": [],
   "source": [
    "PATH_TO_TRAIN_DATA = '/content/ud-treebanks-v2.4/UD_Russian-GSD/ru_gsd-ud-train.conllu'\n",
    "PATH_TO_TEST_DATA = '/content/ud-treebanks-v2.4/UD_Russian-GSD/ru_gsd-ud-test.conllu'\n",
    "EPOCHS = 50\n",
    "LEARNING_RATE = 0.001"
   ]
  },
  {
   "cell_type": "markdown",
   "metadata": {
    "colab_type": "text",
    "id": "t2LzCYJ0wwFN"
   },
   "source": [
    "## Train data preprocessing. Parse words and tags. Convert the train set to numbers and separate text from labels. "
   ]
  },
  {
   "cell_type": "code",
   "execution_count": 0,
   "metadata": {
    "colab": {},
    "colab_type": "code",
    "id": "rODetFB7tNqB"
   },
   "outputs": [],
   "source": [
    "import string \n",
    "\n",
    "word_tag_mapping = {}\n",
    "word_forms_to_word = {}\n",
    "word_to_index = {}\n",
    "tag_to_index = {}\n",
    "\n",
    "word_to_index['-PAD-'] = 0\n",
    "word_to_index['-OOV-'] = 1 # word not in vocabulary\n",
    "tag_to_index['-PAD-'] = 0\n",
    "tag_to_index['-OOV-'] = 1\n",
    "\n",
    "train_data_indexed = []\n",
    "train_labels_indexed = []\n",
    "\n",
    "def process_train_line(line, word_idx, tag_idx):\n",
    "  \"\"\"\n",
    "  param: line: input line from the labeled data: \"1\tГлавная\tглавный\tADJ\tJJL\tCase=Nom|Degree=Pos|Gender=Fem|Number=Sing\t2\tamod\t_\t_\"\n",
    "  param: word_idx: smallest free integer for word numeration\n",
    "  param: tag_idx: smallest free integer for tag numeration\n",
    "  return: next free word_idx and tag_idx\n",
    "  \"\"\"\n",
    "  l = line.split()\n",
    "  word, word_form, tag = l[2], l[1], l[3]\n",
    "  \n",
    "  \n",
    "#   punct_tags = ['&#39;&#39;', '--', '``', '.,', 'APOSTROPHE']\n",
    "#   if tag in string.punctuation or tag in punct_tags:\n",
    "#     tag = 'PUNCT'\n",
    "  \n",
    "  if not word in word_tag_mapping: # если такого слова еще нет в словаре всевозможных слов и их тегов, добавим\n",
    "    word_tag_mapping[word] = tag\n",
    "  if not word in word_forms_to_word:\n",
    "    word_forms_to_word[word_form] = word\n",
    "  if not word in word_to_index:\n",
    "    word_to_index[word] = word_idx\n",
    "    word_idx += 1\n",
    "  if not tag in tag_to_index:\n",
    "    tag_to_index[tag] = tag_idx\n",
    "    tag_idx += 1\n",
    "  \n",
    "  sentence_data.append(word_to_index[word])\n",
    "  sentence_tags.append(tag_to_index[tag])\n",
    "  \n",
    "  return word_idx, tag_idx\n",
    "  \n",
    "  \n",
    "f = open(PATH_TO_TRAIN_DATA)\n",
    "line = f.readline()\n",
    "\n",
    "word_idx, tag_idx = 2, 2\n",
    "sentence_data, sentence_tags = [], []\n",
    "while line:\n",
    "  if ('sent_id' in line) or ('text' in line) or len(line)<4:\n",
    "    if len(sentence_data)>0:\n",
    "      train_data_indexed.append(sentence_data)\n",
    "      train_labels_indexed.append(sentence_tags)\n",
    "    sentence_data, sentence_tags = [], []\n",
    "  else: \n",
    "    word_idx, tag_idx = process_train_line(line, word_idx, tag_idx)\n",
    "    \n",
    "  line = f.readline()\n",
    "f.close()"
   ]
  },
  {
   "cell_type": "markdown",
   "metadata": {
    "colab_type": "text",
    "id": "ZWyKyKzR1wlJ"
   },
   "source": [
    "## Test data preprocessing"
   ]
  },
  {
   "cell_type": "code",
   "execution_count": 0,
   "metadata": {
    "colab": {},
    "colab_type": "code",
    "id": "fixFczZN1vU9"
   },
   "outputs": [],
   "source": [
    "f = open(PATH_TO_TEST_DATA)\n",
    "line = f.readline()\n",
    "\n",
    "test_data_indexed = []\n",
    "y_test = []\n",
    "\n",
    "def process_test_line(line):\n",
    "  l = line.split()\n",
    "  word, tag = l[2], l[3]\n",
    "  try:\n",
    "    sentence_data.append(word_to_index[word])\n",
    "  except KeyError:\n",
    "    sentence_data.append(word_to_index['-OOV-'])\n",
    "  \n",
    "  try:\n",
    "    sentence_tags.append(tag_to_index[tag])\n",
    "  except: \n",
    "    sentence_tags.append(tag_to_index['-OOV-'])\n",
    "  \n",
    "sentence_data, sentence_tags = [], []\n",
    "while line:\n",
    "  if ('sent_id' in line) or ('text' in line) or len(line)<4:\n",
    "    if len(sentence_data)>0:\n",
    "      test_data_indexed.append(sentence_data)\n",
    "      y_test.append(sentence_tags)\n",
    "    sentence_data, sentence_tags = [], []\n",
    "  else: \n",
    "    process_test_line(line)\n",
    "  line = f.readline()\n",
    "  \n",
    "f.close()"
   ]
  },
  {
   "cell_type": "markdown",
   "metadata": {
    "colab_type": "text",
    "id": "Bq9wUPh-KTwg"
   },
   "source": [
    "## Fill external embeddings"
   ]
  },
  {
   "cell_type": "code",
   "execution_count": 0,
   "metadata": {
    "colab": {},
    "colab_type": "code",
    "id": "3GBGnBjTKZce"
   },
   "outputs": [],
   "source": [
    "import numpy as np\n",
    "\n",
    "external_embeddings = {}\n",
    "f = open('/content/file.txt')\n",
    "line = f.readline()\n",
    "while line:\n",
    "    line = f.readline().split()\n",
    "    if len(line)>2:\n",
    "      word = line[0]\n",
    "      v = np.array(line[1:]).astype('float32')\n",
    "      external_embeddings[word] = v\n",
    "f.close()"
   ]
  },
  {
   "cell_type": "code",
   "execution_count": 0,
   "metadata": {
    "colab": {},
    "colab_type": "code",
    "id": "0QNBDtGLM2MN"
   },
   "outputs": [],
   "source": [
    "EMB_LEN = len(v)"
   ]
  },
  {
   "cell_type": "markdown",
   "metadata": {
    "colab_type": "text",
    "id": "hBUf6vx4tOV1"
   },
   "source": [
    "## Data preprocessing. Padding on sentenses - Encoding of the data to be feed to neural network."
   ]
  },
  {
   "cell_type": "code",
   "execution_count": 10,
   "metadata": {
    "colab": {
     "base_uri": "https://localhost:8080/",
     "height": 35
    },
    "colab_type": "code",
    "id": "skpHp9zCQOIr",
    "outputId": "6b07dd13-9fb1-4229-f5f9-51943913b4af"
   },
   "outputs": [
    {
     "name": "stderr",
     "output_type": "stream",
     "text": [
      "Using TensorFlow backend.\n"
     ]
    }
   ],
   "source": [
    "# compute the lenth of the longest sequence in the dataset\n",
    "MAX_LENGTH = len(max(train_data_indexed, key=len))\n",
    "\n",
    "# make all sequences the same size\n",
    "from keras.preprocessing.sequence import pad_sequences\n",
    " \n",
    "train_data_indexed = pad_sequences(train_data_indexed, maxlen=MAX_LENGTH, padding='post')\n",
    "train_labels_indexed = pad_sequences(train_labels_indexed, maxlen=MAX_LENGTH, padding='post')\n",
    " \n",
    "test_data_indexed = pad_sequences(test_data_indexed, maxlen=MAX_LENGTH, padding='post')\n",
    "y_test = pad_sequences(y_test, maxlen=MAX_LENGTH, padding='post')"
   ]
  },
  {
   "cell_type": "markdown",
   "metadata": {
    "colab_type": "text",
    "id": "1tPc68OWxcZ-"
   },
   "source": [
    "## Split train data to train and validation sets"
   ]
  },
  {
   "cell_type": "code",
   "execution_count": 0,
   "metadata": {
    "colab": {},
    "colab_type": "code",
    "id": "CLqX9lo3xcAL"
   },
   "outputs": [],
   "source": [
    "from sklearn.model_selection import train_test_split\n",
    "\n",
    "X_train, X_valid, y_train, y_valid = train_test_split(train_data_indexed, train_labels_indexed, test_size=0.2)"
   ]
  },
  {
   "cell_type": "markdown",
   "metadata": {
    "colab_type": "text",
    "id": "SoWr02z5R_zq"
   },
   "source": [
    "## One hot encode features"
   ]
  },
  {
   "cell_type": "code",
   "execution_count": 0,
   "metadata": {
    "colab": {},
    "colab_type": "code",
    "id": "CzYpHBmkR_Hk"
   },
   "outputs": [],
   "source": [
    "import numpy as np\n",
    "from keras.utils import to_categorical\n",
    "\n",
    "# one-hot encode the tags labels\n",
    "one_hot_train = to_categorical(y_train, len(tag_to_index))\n",
    "one_hot_valid = to_categorical(y_valid, len(tag_to_index))\n",
    "one_hot_test = to_categorical(y_test, len(tag_to_index))"
   ]
  },
  {
   "cell_type": "markdown",
   "metadata": {
    "colab_type": "text",
    "id": "3ybpSZv5p_2p"
   },
   "source": [
    "## Model evaluation metrics"
   ]
  },
  {
   "cell_type": "code",
   "execution_count": 0,
   "metadata": {
    "colab": {},
    "colab_type": "code",
    "id": "_EHIDI3Pqfex"
   },
   "outputs": [],
   "source": [
    "def eval_one_hot(y_true, y_pred):\n",
    "  y_true_class = np.argmax(y_true, axis = -1)\n",
    "  y_pred_class = np.argmax(y_pred, axis = -1)\n",
    "  \n",
    "  correct, total = 0, 0\n",
    "  correct_sentenses = 0\n",
    "  \n",
    "  for i in range(y_true_class.shape[0]):\n",
    "    try:\n",
    "      idx = np.where(y_true_class[i] == 0)[0][0]\n",
    "    except IndexError:\n",
    "      idx = len(y_true_class[i])\n",
    "    matches = np.sum(y_true_class[i][:idx] == y_pred_class[i][:idx])\n",
    "    correct += matches\n",
    "    total += idx\n",
    "    if matches == idx:\n",
    "      correct_sentenses += 1\n",
    "  \n",
    "  return correct/total, correct_sentenses/y_true.shape[0]\n",
    "  "
   ]
  },
  {
   "cell_type": "markdown",
   "metadata": {
    "colab_type": "text",
    "id": "QnixeZeStTk-"
   },
   "source": [
    "## Assemble the model with trainable embeddings"
   ]
  },
  {
   "cell_type": "code",
   "execution_count": 0,
   "metadata": {
    "colab": {},
    "colab_type": "code",
    "id": "GhdFopldm771"
   },
   "outputs": [],
   "source": [
    "# network architecture\n",
    "from keras.models import Sequential\n",
    "from keras.layers import Dense, LSTM, InputLayer, Bidirectional, Embedding, Activation\n",
    "from keras.optimizers import Adam\n",
    "from keras.regularizers import l2\n",
    " \n",
    "VOCAB_SIZE = len(word_to_index)\n",
    "TAG_VOCAB_SIZE = len(tag_to_index)\n",
    "  \n",
    "def create_model():  \n",
    "  model = Sequential([\n",
    "    InputLayer(input_shape=(MAX_LENGTH, )), \n",
    "    Embedding(VOCAB_SIZE, 64),\n",
    "    Bidirectional(LSTM(256, return_sequences=True)), \n",
    "    Dense(TAG_VOCAB_SIZE),\n",
    "    Activation('softmax')\n",
    "  ])\n",
    "\n",
    "  model.compile(loss='categorical_crossentropy',\n",
    "                optimizer=Adam(LEARNING_RATE), metrics = ['accuracy'])\n",
    "  \n",
    "  return model"
   ]
  },
  {
   "cell_type": "markdown",
   "metadata": {
    "colab_type": "text",
    "id": "lijOefvHojgB"
   },
   "source": [
    "## Train the model with embeddings"
   ]
  },
  {
   "cell_type": "code",
   "execution_count": 15,
   "metadata": {
    "colab": {
     "base_uri": "https://localhost:8080/",
     "height": 1000
    },
    "colab_type": "code",
    "id": "dRb76kWNv-of",
    "outputId": "cdb261db-2b19-46ad-d46f-51c8387a3829"
   },
   "outputs": [
    {
     "name": "stdout",
     "output_type": "stream",
     "text": [
      "WARNING:tensorflow:From /usr/local/lib/python3.6/dist-packages/keras/backend/tensorflow_backend.py:66: The name tf.get_default_graph is deprecated. Please use tf.compat.v1.get_default_graph instead.\n",
      "\n",
      "WARNING:tensorflow:From /usr/local/lib/python3.6/dist-packages/keras/backend/tensorflow_backend.py:541: The name tf.placeholder is deprecated. Please use tf.compat.v1.placeholder instead.\n",
      "\n",
      "WARNING:tensorflow:From /usr/local/lib/python3.6/dist-packages/keras/backend/tensorflow_backend.py:4432: The name tf.random_uniform is deprecated. Please use tf.random.uniform instead.\n",
      "\n",
      "WARNING:tensorflow:From /usr/local/lib/python3.6/dist-packages/keras/optimizers.py:793: The name tf.train.Optimizer is deprecated. Please use tf.compat.v1.train.Optimizer instead.\n",
      "\n",
      "WARNING:tensorflow:From /usr/local/lib/python3.6/dist-packages/keras/backend/tensorflow_backend.py:3576: The name tf.log is deprecated. Please use tf.math.log instead.\n",
      "\n",
      "WARNING:tensorflow:From /usr/local/lib/python3.6/dist-packages/tensorflow/python/ops/math_grad.py:1250: add_dispatch_support.<locals>.wrapper (from tensorflow.python.ops.array_ops) is deprecated and will be removed in a future version.\n",
      "Instructions for updating:\n",
      "Use tf.where in 2.0, which has the same broadcast rule as np.where\n",
      "WARNING:tensorflow:From /usr/local/lib/python3.6/dist-packages/keras/backend/tensorflow_backend.py:1033: The name tf.assign_add is deprecated. Please use tf.compat.v1.assign_add instead.\n",
      "\n",
      "Epoch 0 train loss: 1.1673982954025268 train acc word: 0.04681402913777923 train acc sentence: 0.0  valid acc word: 0.11100746268656717 valid acc sentence: 0.0\n",
      "Epoch 1 train loss: 0.48728736519813537 train acc word: 0.19571522122426363 train acc sentence: 0.0  valid acc word: 0.24173773987206823 valid acc sentence: 0.0\n",
      "Epoch 2 train loss: 0.4392800009250641 train acc word: 0.2686553373229526 train acc sentence: 0.0  valid acc word: 0.2706556503198294 valid acc sentence: 0.0\n",
      "Epoch 3 train loss: 0.41997961163520814 train acc word: 0.27549824109365234 train acc sentence: 0.0  valid acc word: 0.28118336886993606 valid acc sentence: 0.0\n",
      "Epoch 4 train loss: 0.40251863598823545 train acc word: 0.2860681794537738 train acc sentence: 0.0003125  valid acc word: 0.31456556503198296 valid acc sentence: 0.0\n",
      "Epoch 5 train loss: 0.39258267641067507 train acc word: 0.3027931246201168 train acc sentence: 0.0003125  valid acc word: 0.3200959488272921 valid acc sentence: 0.0\n",
      "Epoch 6 train loss: 0.38264681816101076 train acc word: 0.32509445639629225 train acc sentence: 0.0003125  valid acc word: 0.3238272921108742 valid acc sentence: 0.0\n",
      "Epoch 7 train loss: 0.36945078015327454 train acc word: 0.3520546226690405 train acc sentence: 0.0003125  valid acc word: 0.3472148187633262 valid acc sentence: 0.0\n",
      "Epoch 8 train loss: 0.4020454967021942 train acc word: 0.3644389742757439 train acc sentence: 0.0003125  valid acc word: 0.26652452025586354 valid acc sentence: 0.0\n",
      "Epoch 9 train loss: 0.3692213726043701 train acc word: 0.4076949869828193 train acc sentence: 0.0003125  valid acc word: 0.4560234541577825 valid acc sentence: 0.0\n",
      "Epoch 10 train loss: 0.3302814304828644 train acc word: 0.5057478685018323 train acc sentence: 0.000625  valid acc word: 0.5295175906183369 valid acc sentence: 0.0\n",
      "Epoch 11 train loss: 0.3019947290420532 train acc word: 0.5452787810147461 train acc sentence: 0.0009375  valid acc word: 0.5473081023454158 valid acc sentence: 0.0\n",
      "Epoch 12 train loss: 0.27495885610580445 train acc word: 0.5626515362248773 train acc sentence: 0.001875  valid acc word: 0.5653651385927505 valid acc sentence: 0.0\n",
      "Epoch 13 train loss: 0.25077023029327394 train acc word: 0.5762379588563149 train acc sentence: 0.0028125  valid acc word: 0.5744936034115139 valid acc sentence: 0.0\n",
      "Epoch 14 train loss: 0.22922051846981048 train acc word: 0.5931822971370226 train acc sentence: 0.003125  valid acc word: 0.5910847547974414 valid acc sentence: 0.0012970168612191958\n",
      "Epoch 15 train loss: 0.20577406823635103 train acc word: 0.6501395263797329 train acc sentence: 0.01375  valid acc word: 0.64465618336887 valid acc sentence: 0.007782101167315175\n",
      "Epoch 16 train loss: 0.17928955674171448 train acc word: 0.7272597638635117 train acc sentence: 0.0340625  valid acc word: 0.7000266524520256 valid acc sentence: 0.01297016861219196\n",
      "Epoch 17 train loss: 0.15123653173446655 train acc word: 0.7754041724506664 train acc sentence: 0.0584375  valid acc word: 0.7330090618336887 valid acc sentence: 0.019455252918287938\n",
      "Epoch 18 train loss: 0.1251453360915184 train acc word: 0.8145704302272196 train acc sentence: 0.098125  valid acc word: 0.759661513859275 valid acc sentence: 0.03761348897535668\n",
      "Epoch 19 train loss: 0.10313669830560684 train acc word: 0.8547144067945319 train acc sentence: 0.1628125  valid acc word: 0.7816497867803838 valid acc sentence: 0.058365758754863814\n",
      "Epoch 20 train loss: 0.08520955592393875 train acc word: 0.8898461395217058 train acc sentence: 0.2596875  valid acc word: 0.8059035181236673 valid acc sentence: 0.06744487678339818\n",
      "Epoch 21 train loss: 0.0707391306757927 train acc word: 0.9152553429646119 train acc sentence: 0.3421875  valid acc word: 0.8260261194029851 valid acc sentence: 0.08690012970168612\n",
      "Epoch 22 train loss: 0.058931448608636854 train acc word: 0.9336078513137872 train acc sentence: 0.4275  valid acc word: 0.8407515991471215 valid acc sentence: 0.10765239948119326\n",
      "Epoch 23 train loss: 0.049399071782827375 train acc word: 0.9456951670863966 train acc sentence: 0.501875  valid acc word: 0.8512126865671642 valid acc sentence: 0.13229571984435798\n",
      "Epoch 24 train loss: 0.04186030939221382 train acc word: 0.9544829875757721 train acc sentence: 0.5578125  valid acc word: 0.8578757995735607 valid acc sentence: 0.14915693904020752\n",
      "Epoch 25 train loss: 0.03592500150203705 train acc word: 0.9613370653017586 train acc sentence: 0.5990625  valid acc word: 0.8642057569296375 valid acc sentence: 0.1582360570687419\n",
      "Epoch 26 train loss: 0.031180481165647506 train acc word: 0.9671223499015658 train acc sentence: 0.639375  valid acc word: 0.869069829424307 valid acc sentence: 0.1621271076523995\n",
      "Epoch 27 train loss: 0.02729979582130909 train acc word: 0.9724588106912114 train acc sentence: 0.680625  valid acc word: 0.8722014925373134 valid acc sentence: 0.17120622568093385\n",
      "Epoch 28 train loss: 0.02398045688867569 train acc word: 0.9765386449250016 train acc sentence: 0.71625  valid acc word: 0.875066631130064 valid acc sentence: 0.17898832684824903\n",
      "Epoch 29 train loss: 0.02129730999469757 train acc word: 0.9798818316913702 train acc sentence: 0.745625  valid acc word: 0.877065565031983 valid acc sentence: 0.17639429312581065\n",
      "Epoch 30 train loss: 0.019020177721977234 train acc word: 0.9821670123172197 train acc sentence: 0.7653125  valid acc word: 0.8799973347547975 valid acc sentence: 0.1880674448767834\n",
      "Epoch 31 train loss: 0.017165249809622765 train acc word: 0.9835808695022378 train acc sentence: 0.7796875  valid acc word: 0.8801972281449894 valid acc sentence: 0.191958495460441\n",
      "Epoch 32 train loss: 0.01565554078668356 train acc word: 0.9843215700059802 train acc sentence: 0.788125  valid acc word: 0.8831956289978679 valid acc sentence: 0.19455252918287938\n",
      "Epoch 33 train loss: 0.014090631045401097 train acc word: 0.9861895906670758 train acc sentence: 0.8040625  valid acc word: 0.8837953091684435 valid acc sentence: 0.19714656290531776\n",
      "Epoch 34 train loss: 0.012664046324789523 train acc word: 0.987332201131619 train acc sentence: 0.818125  valid acc word: 0.8834621535181236 valid acc sentence: 0.19714656290531776\n",
      "Epoch 35 train loss: 0.011551499553024768 train acc word: 0.9881233822911496 train acc sentence: 0.8284375  valid acc word: 0.8837286780383795 valid acc sentence: 0.20363164721141375\n",
      "Epoch 36 train loss: 0.010558838918805123 train acc word: 0.9891058434757999 train acc sentence: 0.8384375  valid acc word: 0.8838619402985075 valid acc sentence: 0.20233463035019456\n",
      "Epoch 37 train loss: 0.00967483015730977 train acc word: 0.9898769747229363 train acc sentence: 0.8471875  valid acc word: 0.8843949893390192 valid acc sentence: 0.20622568093385213\n",
      "Epoch 38 train loss: 0.00894099622964859 train acc word: 0.9906038946392647 train acc sentence: 0.8575  valid acc word: 0.8849946695095949 valid acc sentence: 0.20492866407263294\n",
      "Epoch 39 train loss: 0.00830021481961012 train acc word: 0.9911931805832539 train acc sentence: 0.865  valid acc word: 0.8857942430703625 valid acc sentence: 0.21011673151750973\n",
      "Epoch 40 train loss: 0.007734981495887041 train acc word: 0.9917704321676853 train acc sentence: 0.8725  valid acc word: 0.8863272921108742 valid acc sentence: 0.21141374837872892\n",
      "Epoch 41 train loss: 0.007243164479732513 train acc word: 0.9922133759917798 train acc sentence: 0.878125  valid acc word: 0.886793710021322 valid acc sentence: 0.2140077821011673\n",
      "Epoch 42 train loss: 0.006796274110674858 train acc word: 0.9926100576258898 train acc sentence: 0.881875  valid acc word: 0.8872601279317697 valid acc sentence: 0.2140077821011673\n",
      "Epoch 43 train loss: 0.006386249642819166 train acc word: 0.9931485738065642 train acc sentence: 0.8890625  valid acc word: 0.8876599147121536 valid acc sentence: 0.2127107652399481\n",
      "Epoch 44 train loss: 0.006013963874429464 train acc word: 0.9935291203843275 train acc sentence: 0.8953125  valid acc word: 0.8881263326226013 valid acc sentence: 0.21660181582360571\n",
      "Epoch 45 train loss: 0.00566702350974083 train acc word: 0.9938927959684201 train acc sentence: 0.9015625  valid acc word: 0.8881263326226013 valid acc sentence: 0.21660181582360571\n",
      "Epoch 46 train loss: 0.005346640385687352 train acc word: 0.9942312354270892 train acc sentence: 0.9059375  valid acc word: 0.8881263326226013 valid acc sentence: 0.2178988326848249\n",
      "Epoch 47 train loss: 0.005046694148331881 train acc word: 0.9945531196561967 train acc sentence: 0.910625  valid acc word: 0.8881929637526652 valid acc sentence: 0.21530479896238652\n",
      "Epoch 48 train loss: 0.004765620557591319 train acc word: 0.9948096705056977 train acc sentence: 0.915  valid acc word: 0.8881929637526652 valid acc sentence: 0.2140077821011673\n",
      "Epoch 49 train loss: 0.0045026970934122805 train acc word: 0.9950010637035628 train acc sentence: 0.9175  valid acc word: 0.8889259061833689 valid acc sentence: 0.21660181582360571\n"
     ]
    }
   ],
   "source": [
    "def batch (X_train, y_train, size = 128):\n",
    "  \"\"\"\n",
    "  creates batches for training the model\n",
    "  \"\"\"\n",
    "  N = y_train.shape[0]\n",
    "  i = 0\n",
    "  while i<N:\n",
    "    if i+size<N:\n",
    "      yield X_train[i:i+size], y_train[i:i+size]\n",
    "    else: \n",
    "      yield X_train[i:], y_train[i:]\n",
    "    i+=size\n",
    "    \n",
    "def train_step(model, X_train, y_train):\n",
    "  \"\"\"\n",
    "  one step of training the model process\n",
    "  return: loss, words accuracy and sentences accuracy for training data\n",
    "  \"\"\"\n",
    "  N = 0\n",
    "  t_loss, t_acc_word, t_acc_sent = 0,0,0\n",
    "  for x, y in batch (X_train, y_train, size = 128):\n",
    "    N += 1\n",
    "    t_loss += model.train_on_batch(x, y)[0]\n",
    "  \n",
    "    # calculate accuracy on train set\n",
    "    predictions = model.predict(x)\n",
    "    a_w, a_s = eval_one_hot(y, predictions)\n",
    "    t_acc_word += a_w\n",
    "    t_acc_sent += a_s\n",
    "    \n",
    "  return t_loss/N, t_acc_word/N, t_acc_sent/N\n",
    "\n",
    "\n",
    "\n",
    "\n",
    "def train(model, X_train, y_train, X_valid = None, y_valid = None, epochs = EPOCHS, verbose = True):\n",
    "    \"\"\"\n",
    "    function to train the model\n",
    "    return history of training loss, words accuracy for training and validation \n",
    "    sets, sentences accuracy for training and validation sets\n",
    "    \"\"\"\n",
    "    train_loss, train_acc_word, valid_acc_word, train_acc_sent, valid_acc_sent = [], [], [], [], []\n",
    "    for epoch in range(epochs):\n",
    "      t_metrics = train_step(model, X_train, y_train)\n",
    "      \n",
    "      # validation accuracy\n",
    "      if X_valid is not None:\n",
    "        predictions = model.predict(X_valid)\n",
    "        v_metrics = eval_one_hot(y_valid, predictions)\n",
    "        valid_acc_word.append(v_metrics[0])\n",
    "        valid_acc_sent.append(v_metrics[1]) \n",
    "        if verbose:\n",
    "          print(f'Epoch {epoch} train loss: {t_metrics[0]} train acc word: {t_metrics[1]} train acc sentence: {t_metrics[2]}  valid acc word: {v_metrics[0]} valid acc sentence: {v_metrics[1]}')\n",
    "      \n",
    "      elif verbose: \n",
    "        print(f'Epoch {epoch} train loss: {t_metrics[0]} train acc word: {t_metrics[1]} train acc sentence: {t_metrics[2]}')\n",
    "      \n",
    "      # append to history\n",
    "      train_loss.append(t_metrics[0])\n",
    "      train_acc_word.append(t_metrics[1])\n",
    "      train_acc_sent.append(t_metrics[2])\n",
    "      \n",
    "    return train_loss, train_acc_word, valid_acc_word, train_acc_sent, valid_acc_sent\n",
    "\n",
    "model = create_model()\n",
    "train_loss, train_acc_word, valid_acc_word, train_acc_sent, valid_acc_sent = train(model, X_train, one_hot_train, X_valid, one_hot_valid, verbose = True)"
   ]
  },
  {
   "cell_type": "markdown",
   "metadata": {
    "colab_type": "text",
    "id": "FGLs2_yMHrm3"
   },
   "source": [
    "## Plot the training process"
   ]
  },
  {
   "cell_type": "code",
   "execution_count": 16,
   "metadata": {
    "colab": {
     "base_uri": "https://localhost:8080/",
     "height": 851
    },
    "colab_type": "code",
    "id": "8otePktsHuaC",
    "outputId": "8e87374e-c518-41d9-e0f4-a32dd7b12795"
   },
   "outputs": [
    {
     "data": {
      "image/png": "[encoded data removed]",
      "text/plain": [
       "<Figure size 432x288 with 1 Axes>"
      ]
     },
     "metadata": {
      "tags": []
     },
     "output_type": "display_data"
    },
    {
     "data": {
      "image/png": "[encoded data removed]",
      "text/plain": [
       "<Figure size 432x288 with 1 Axes>"
      ]
     },
     "metadata": {
      "tags": []
     },
     "output_type": "display_data"
    },
    {
     "data": {
      "image/png": "[encoded data removed]",
      "text/plain": [
       "<Figure size 432x288 with 1 Axes>"
      ]
     },
     "metadata": {
      "tags": []
     },
     "output_type": "display_data"
    }
   ],
   "source": [
    "from matplotlib import pyplot as plt\n",
    "\n",
    "plt.plot(train_loss)\n",
    "plt.ylabel('Loss')\n",
    "plt.xlabel('Epoch')\n",
    "plt.title('Train loss')\n",
    "plt.show()\n",
    "\n",
    "plt.plot(train_acc_word, label='train')\n",
    "plt.plot(valid_acc_word, label = 'validation')\n",
    "plt.ylabel('Words accuracy')\n",
    "plt.xlabel('Epoch')\n",
    "plt.title('Accuracy')\n",
    "plt.legend()\n",
    "plt.show()\n",
    "\n",
    "plt.plot(train_acc_sent, label='train')\n",
    "plt.plot(valid_acc_sent, label = 'validation')\n",
    "plt.ylabel('Sentences accuracy')\n",
    "plt.xlabel('Epoch')\n",
    "plt.title('Accuracy')\n",
    "plt.legend()\n",
    "plt.show()"
   ]
  },
  {
   "cell_type": "markdown",
   "metadata": {
    "colab_type": "text",
    "id": "SDxbn8tyLFaJ"
   },
   "source": [
    "## Asses model on test set"
   ]
  },
  {
   "cell_type": "code",
   "execution_count": 17,
   "metadata": {
    "colab": {
     "base_uri": "https://localhost:8080/",
     "height": 35
    },
    "colab_type": "code",
    "id": "Yk3ujESsLH-8",
    "outputId": "b94609ec-8abc-4ca2-ea9f-828b583dab3d"
   },
   "outputs": [
    {
     "name": "stdout",
     "output_type": "stream",
     "text": [
      "Accuracy per word 0.8864682961388594 per sentence 0.20465890183028287\n"
     ]
    }
   ],
   "source": [
    "predictions = model.predict(test_data_indexed)\n",
    "metrics = eval_one_hot(one_hot_test, predictions)\n",
    "print(f'Accuracy per word {metrics[0]} per sentence {metrics[1]}')"
   ]
  },
  {
   "cell_type": "markdown",
   "metadata": {
    "colab_type": "text",
    "id": "AUuYKhkGD11Q"
   },
   "source": [
    "## Pipeline for further model usage"
   ]
  },
  {
   "cell_type": "code",
   "execution_count": 0,
   "metadata": {
    "colab": {},
    "colab_type": "code",
    "id": "C21DUTl6LEaR"
   },
   "outputs": [],
   "source": [
    "index_to_tag = {tag_to_index[k]:k for k in tag_to_index }\n",
    "\n",
    "def predict_for_one(model, sentence):\n",
    "  # split sentence by spaces\n",
    "  sentence = sentence.split()\n",
    "  # change word to their base forms\n",
    "  sentence = [ word_forms_to_word.get(word, '-OOV-') for word in sentence]\n",
    "  # convert sentence to numbers\n",
    "  N = len(sentence)\n",
    "  data_indexed = []\n",
    "  for word in sentence:\n",
    "    try:\n",
    "      data_indexed.append(word_to_index[word])\n",
    "    except KeyError:\n",
    "      data_indexed.append(word_to_index['-OOV-'])\n",
    "  # padding\n",
    "  data_indexed = np.expand_dims(data_indexed, axis=0)\n",
    "  data_indexed = pad_sequences(data_indexed, maxlen=MAX_LENGTH, padding='post')\n",
    "  # get model predictions\n",
    "  pred = model.predict(data_indexed)\n",
    "  pred = np.argmax(pred, axis = -1)\n",
    "  pred = pred[0][:N]\n",
    "  # convert to human readable\n",
    "  return [index_to_tag[i] for i in pred ]"
   ]
  },
  {
   "cell_type": "markdown",
   "metadata": {
    "colab_type": "text",
    "id": "U3ehkeEj96t7"
   },
   "source": [
    "## Example of model prediction (with mistake)"
   ]
  },
  {
   "cell_type": "code",
   "execution_count": 19,
   "metadata": {
    "colab": {
     "base_uri": "https://localhost:8080/",
     "height": 35
    },
    "colab_type": "code",
    "id": "SFRairUzfCcg",
    "outputId": "b7e0d02d-bce3-4d85-ebf6-2e9f2f0e3de0"
   },
   "outputs": [
    {
     "name": "stdout",
     "output_type": "stream",
     "text": [
      "Predicted tags ['NOUN', 'VERB', 'DET', 'NOUN', 'ADP', 'ADJ', 'NOUN', 'PUNCT', 'CCONJ', 'ADV', 'PRON', 'AUX', 'VERB', 'ADP', 'ADJ', 'PUNCT']\n"
     ]
    }
   ],
   "source": [
    "pred = predict_for_one(model, 'Райс написал этот роман в 1973 году , а впервые он быть напечатан в 1976 .')\n",
    "true_tags = ['PROPN', 'VERB', 'DET', 'NOUN', 'ADP', 'ADJ', 'NOUN', 'PUNCT', 'CCONJ', 'ADV', 'PRON', 'AUX', 'VERB', 'ADP', 'ADJ', 'PUNCT']\n",
    "print(f'Predicted tags {pred}')"
   ]
  },
  {
   "cell_type": "markdown",
   "metadata": {
    "colab_type": "text",
    "id": "3hcw4B3N9grR"
   },
   "source": [
    "## Example of correct model prediction"
   ]
  },
  {
   "cell_type": "code",
   "execution_count": 20,
   "metadata": {
    "colab": {
     "base_uri": "https://localhost:8080/",
     "height": 35
    },
    "colab_type": "code",
    "id": "J-Rtcr_Tdnu1",
    "outputId": "bc24d825-948e-459b-fa60-12088676cc49"
   },
   "outputs": [
    {
     "name": "stdout",
     "output_type": "stream",
     "text": [
      "Predicted tags ['NOUN', 'ADJ', 'NOUN', 'PUNCT']\n"
     ]
    }
   ],
   "source": [
    "pred = predict_for_one(model, 'Участник гражданской войны .')\n",
    "true_tags = ['NOUN', 'ADJ', 'NOUN', 'PUNCT']\n",
    "print(f'Predicted tags {pred}')"
   ]
  },
  {
   "cell_type": "code",
   "execution_count": 0,
   "metadata": {
    "colab": {},
    "colab_type": "code",
    "id": "twRYTtdALJUH"
   },
   "outputs": [],
   "source": [
    "# test_text, y_test = [], []\n",
    "\n",
    "# f = open(PATH_TO_TEST_DATA)\n",
    "# line = f.readline()\n",
    "\n",
    "# def process_test_line(line):\n",
    "#   l = line.split()\n",
    "#   word, tag = l[2], l[3]\n",
    "#   sentence_data.append(word)\n",
    "#   sentence_tags.append(tag)\n",
    "  \n",
    "# sentence_data, sentence_tags = [], []\n",
    "# while line:\n",
    "#   if ('sent_id' in line) or ('text' in line) or len(line)<4:\n",
    "#     if len(sentence_data)>0:\n",
    "#       test_text.append(sentence_data)\n",
    "#       y_test.append(sentence_tags)\n",
    "#     sentence_data, sentence_tags = [], []\n",
    "#   else: \n",
    "#     process_test_line(line)\n",
    "#   line = f.readline()\n",
    "  \n",
    "# f.close()\n",
    "\n",
    "# for sentence, tag in zip(test_text, y_test): \n",
    "#   s = ' '.join(sentence)\n",
    "#   pred = predict_for_one(model, s)\n",
    "  \n",
    "#   if pred == tag:\n",
    "#     print(s)\n",
    "#     print(tag)\n",
    "#     print(pred)\n",
    "#     print('ok')"
   ]
  },
  {
   "cell_type": "markdown",
   "metadata": {
    "colab_type": "text",
    "id": "bhXdrDu3CfR6"
   },
   "source": [
    "## Analize model mistakes"
   ]
  },
  {
   "cell_type": "code",
   "execution_count": 22,
   "metadata": {
    "colab": {
     "base_uri": "https://localhost:8080/",
     "height": 301
    },
    "colab_type": "code",
    "id": "Hv37yvhmCsRn",
    "outputId": "5dbb886d-b5a7-4a04-aaa4-b0a901bc65b4"
   },
   "outputs": [
    {
     "name": "stdout",
     "output_type": "stream",
     "text": [
      "true tag NOUN was taken by the model as PROPN 19.0 times\n",
      "true tag NOUN was taken by the model as ADJ 35.0 times\n",
      "true tag NOUN was taken by the model as NUM 85.0 times\n",
      "true tag NOUN was taken by the model as X 25.0 times\n",
      "true tag PROPN was taken by the model as NOUN 358.0 times\n",
      "true tag PROPN was taken by the model as NUM 50.0 times\n",
      "true tag PROPN was taken by the model as X 46.0 times\n",
      "true tag VERB was taken by the model as NOUN 110.0 times\n",
      "true tag VERB was taken by the model as NUM 34.0 times\n",
      "true tag ADJ was taken by the model as NOUN 105.0 times\n",
      "true tag ADJ was taken by the model as NUM 110.0 times\n",
      "true tag PART was taken by the model as CCONJ 22.0 times\n",
      "true tag NUM was taken by the model as NOUN 19.0 times\n",
      "true tag ADV was taken by the model as NOUN 21.0 times\n",
      "true tag X was taken by the model as NOUN 52.0 times\n",
      "true tag X was taken by the model as NUM 38.0 times\n"
     ]
    }
   ],
   "source": [
    "def find_mistakes(y_true, y_pred):\n",
    "  \"\"\"\n",
    "  return matrix of mistakes\n",
    "  \"\"\"\n",
    "  y_true_class = np.argmax(y_true, axis = -1)\n",
    "  y_pred_class = np.argmax(y_pred, axis = -1)\n",
    "  n = len(tag_to_index)\n",
    "  mistakes = np.zeros((n,n)) # следва true справа predicted\n",
    "\n",
    "  # for every snetence\n",
    "  for i in range(y_true_class.shape[0]):\n",
    "    try:\n",
    "      idx = np.where(y_true_class[i] == 0)[0][0]\n",
    "    except IndexError:\n",
    "      idx = len(y_true_class[i])\n",
    "    \n",
    "    for t, p in zip(y_true_class[i][:idx], y_pred_class[i][:idx]): \n",
    "      if t != p:\n",
    "        mistakes[t,p] += 1\n",
    "  \n",
    "  return mistakes\n",
    "\n",
    "predictions = model.predict(test_data_indexed)\n",
    "mistakes = find_mistakes(one_hot_test, predictions)\n",
    "\n",
    "# fimd most common mistakes\n",
    "idx = np.where(mistakes > np.argmax(mistakes)/4)\n",
    "idx_true, idx_pred = idx[0], idx[1] \n",
    "\n",
    "# convert to human readable\n",
    "true_tags = [index_to_tag[i] for i in idx_true]\n",
    "pred_tags = [index_to_tag[i] for i in idx_pred]\n",
    "\n",
    "for i in range(len(true_tags)):\n",
    "  n, m = idx_true[i], idx_pred[i]\n",
    "  print(f'true tag {true_tags[i]} was taken by the model as {pred_tags[i]} {mistakes[n,m]} times')\n",
    "\n"
   ]
  },
  {
   "cell_type": "markdown",
   "metadata": {
    "colab_type": "text",
    "id": "gTOlzyxZNQkG"
   },
   "source": [
    "## Analize correct predictions"
   ]
  },
  {
   "cell_type": "code",
   "execution_count": 23,
   "metadata": {
    "colab": {
     "base_uri": "https://localhost:8080/",
     "height": 284
    },
    "colab_type": "code",
    "id": "ZKY-ymlDNVhw",
    "outputId": "1bb97659-08cf-45c6-de37-3bb80ac0bf63"
   },
   "outputs": [
    {
     "name": "stdout",
     "output_type": "stream",
     "text": [
      "true tag ADP was guessed 1253.0 times\n",
      "true tag NOUN was guessed 2912.0 times\n",
      "true tag PROPN was guessed 291.0 times\n",
      "true tag CCONJ was guessed 327.0 times\n",
      "true tag PUNCT was guessed 2044.0 times\n",
      "true tag PRON was guessed 203.0 times\n",
      "true tag VERB was guessed 833.0 times\n",
      "true tag DET was guessed 191.0 times\n",
      "true tag ADJ was guessed 1233.0 times\n",
      "true tag SCONJ was guessed 51.0 times\n",
      "true tag AUX was guessed 102.0 times\n",
      "true tag PART was guessed 101.0 times\n",
      "true tag NUM was guessed 173.0 times\n",
      "true tag ADV was guessed 211.0 times\n",
      "true tag X was guessed 71.0 times\n"
     ]
    }
   ],
   "source": [
    "def find_correct(y_true, y_pred):\n",
    "  \"\"\"\n",
    "  return matrix of correctly classified\n",
    "  \"\"\"\n",
    "  y_true_class = np.argmax(y_true, axis = -1)\n",
    "  y_pred_class = np.argmax(y_pred, axis = -1)\n",
    "  n = len(tag_to_index)\n",
    "  corrects = np.zeros((n,n)) # следва true справа predicted\n",
    "  \n",
    "\n",
    "  # for every snetence\n",
    "  for i in range(y_true_class.shape[0]):\n",
    "    try:\n",
    "      idx = np.where(y_true_class[i] == 0)[0][0]\n",
    "    except IndexError:\n",
    "      idx = len(y_true_class[i])\n",
    "    \n",
    "    for t, p in zip(y_true_class[i][:idx], y_pred_class[i][:idx]): \n",
    "      if t == p:\n",
    "        corrects[t,p] += 1\n",
    "  \n",
    "  return corrects\n",
    "\n",
    "predictions = model.predict(test_data_indexed)\n",
    "corrects = find_correct(one_hot_test, predictions)\n",
    "\n",
    "# fimd most common correct prediction\n",
    "idx = np.where(corrects > np.argmax(corrects)/2)\n",
    "idx_true, idx_pred = idx[0], idx[1] \n",
    "\n",
    "# convert to human readable\n",
    "true_tags = [index_to_tag[i] for i in idx_true]\n",
    "pred_tags = [index_to_tag[i] for i in idx_pred]\n",
    "\n",
    "for i in range(len(true_tags)):\n",
    "  n, m = idx_true[i], idx_pred[i]\n",
    "  print(f'true tag {true_tags[i]} was guessed {corrects[n,m]} times')"
   ]
  },
  {
   "cell_type": "markdown",
   "metadata": {
    "colab_type": "text",
    "id": "KZef4g1COlVc"
   },
   "source": [
    "## Experiment with different size of training data: 10%, 20% ... 90% and report accuracy for each set. "
   ]
  },
  {
   "cell_type": "code",
   "execution_count": 24,
   "metadata": {
    "colab": {
     "base_uri": "https://localhost:8080/",
     "height": 177
    },
    "colab_type": "code",
    "id": "ZJalQQwOOyK6",
    "outputId": "5c4f2336-ca5e-4416-98c5-43c94c740a39"
   },
   "outputs": [
    {
     "name": "stdout",
     "output_type": "stream",
     "text": [
      "10% training data accuracy per word: 0.2820580942260007 per sentence 0.0\n",
      "20% training data accuracy per word: 0.6570138150903294 per sentence 0.02329450915141431\n",
      "30% training data accuracy per word: 0.7857775416223876 per sentence 0.06655574043261231\n",
      "40% training data accuracy per word: 0.8490967056323061 per sentence 0.129783693843594\n",
      "50% training data accuracy per word: 0.8597236981934112 per sentence 0.15640599001663893\n",
      "60% training data accuracy per word: 0.8655685441020191 per sentence 0.1480865224625624\n",
      "70% training data accuracy per word: 0.8822174991144173 per sentence 0.18136439267886856\n",
      "80% training data accuracy per word: 0.8927559334041799 per sentence 0.22296173044925124\n",
      "90% training data accuracy per word: 0.8924017003188098 per sentence 0.2079866888519135\n"
     ]
    }
   ],
   "source": [
    "# 10%\n",
    "model = create_model()\n",
    "X_train, _, y_train, __= train_test_split(train_data_indexed, train_labels_indexed, test_size=0.9)\n",
    "one_hot_train = to_categorical(y_train, len(tag_to_index))\n",
    "train(model, X_train, one_hot_train, epochs = EPOCHS, verbose = False)\n",
    "predictions = model.predict(test_data_indexed)\n",
    "metrics = eval_one_hot(one_hot_test, predictions)\n",
    "print(f'10% training data accuracy per word: {metrics[0]} per sentence {metrics[1]}')\n",
    "\n",
    "# 20%\n",
    "model = create_model()\n",
    "X_train, _, y_train, __= train_test_split(train_data_indexed, train_labels_indexed, test_size=0.8)\n",
    "one_hot_train = to_categorical(y_train, len(tag_to_index))\n",
    "train(model, X_train, one_hot_train, epochs = EPOCHS, verbose = False)\n",
    "predictions = model.predict(test_data_indexed)\n",
    "metrics = eval_one_hot(one_hot_test, predictions)\n",
    "print(f'20% training data accuracy per word: {metrics[0]} per sentence {metrics[1]}')\n",
    "\n",
    "# 30%\n",
    "model = create_model()\n",
    "X_train, _, y_train, __= train_test_split(train_data_indexed, train_labels_indexed, test_size=0.7)\n",
    "one_hot_train = to_categorical(y_train, len(tag_to_index))\n",
    "train(model, X_train, one_hot_train, epochs = EPOCHS, verbose = False)\n",
    "predictions = model.predict(test_data_indexed)\n",
    "metrics = eval_one_hot(one_hot_test, predictions)\n",
    "print(f'30% training data accuracy per word: {metrics[0]} per sentence {metrics[1]}')\n",
    "\n",
    "# 40%\n",
    "model = create_model()\n",
    "X_train, _, y_train, __= train_test_split(train_data_indexed, train_labels_indexed, test_size=0.6)\n",
    "one_hot_train = to_categorical(y_train, len(tag_to_index))\n",
    "train(model, X_train, one_hot_train, epochs = EPOCHS, verbose = False)\n",
    "predictions = model.predict(test_data_indexed)\n",
    "metrics = eval_one_hot(one_hot_test, predictions)\n",
    "print(f'40% training data accuracy per word: {metrics[0]} per sentence {metrics[1]}')\n",
    "\n",
    "# 50%\n",
    "model = create_model()\n",
    "X_train, _, y_train, __= train_test_split(train_data_indexed, train_labels_indexed, test_size=0.5)\n",
    "one_hot_train = to_categorical(y_train, len(tag_to_index))\n",
    "train(model, X_train, one_hot_train, epochs = EPOCHS, verbose = False)\n",
    "predictions = model.predict(test_data_indexed)\n",
    "metrics = eval_one_hot(one_hot_test, predictions)\n",
    "print(f'50% training data accuracy per word: {metrics[0]} per sentence {metrics[1]}')\n",
    "\n",
    "# 60%\n",
    "model = create_model()\n",
    "X_train, _, y_train, __= train_test_split(train_data_indexed, train_labels_indexed, test_size=0.4)\n",
    "one_hot_train = to_categorical(y_train, len(tag_to_index))\n",
    "train(model, X_train, one_hot_train, epochs = EPOCHS, verbose = False)\n",
    "predictions = model.predict(test_data_indexed)\n",
    "metrics = eval_one_hot(one_hot_test, predictions)\n",
    "print(f'60% training data accuracy per word: {metrics[0]} per sentence {metrics[1]}')\n",
    "\n",
    "# 70%\n",
    "model = create_model()\n",
    "X_train, _, y_train, __= train_test_split(train_data_indexed, train_labels_indexed, test_size=0.3)\n",
    "one_hot_train = to_categorical(y_train, len(tag_to_index))\n",
    "train(model, X_train, one_hot_train, epochs = EPOCHS, verbose = False)\n",
    "predictions = model.predict(test_data_indexed)\n",
    "metrics = eval_one_hot(one_hot_test, predictions)\n",
    "print(f'70% training data accuracy per word: {metrics[0]} per sentence {metrics[1]}')\n",
    "\n",
    "# 80%\n",
    "model = create_model()\n",
    "X_train, _, y_train, __= train_test_split(train_data_indexed, train_labels_indexed, test_size=0.2)\n",
    "one_hot_train = to_categorical(y_train, len(tag_to_index))\n",
    "train(model, X_train, one_hot_train, epochs = EPOCHS, verbose = False)\n",
    "predictions = model.predict(test_data_indexed)\n",
    "metrics = eval_one_hot(one_hot_test, predictions)\n",
    "print(f'80% training data accuracy per word: {metrics[0]} per sentence {metrics[1]}')\n",
    "\n",
    "# 90%\n",
    "model = create_model()\n",
    "X_train, _, y_train, __= train_test_split(train_data_indexed, train_labels_indexed, test_size=0.1)\n",
    "one_hot_train = to_categorical(y_train, len(tag_to_index))\n",
    "train(model, X_train, one_hot_train, epochs = EPOCHS, verbose = False)\n",
    "predictions = model.predict(test_data_indexed)\n",
    "metrics = eval_one_hot(one_hot_test, predictions)\n",
    "print(f'90% training data accuracy per word: {metrics[0]} per sentence {metrics[1]}')"
   ]
  },
  {
   "cell_type": "markdown",
   "metadata": {
    "colab_type": "text",
    "id": "LIQ6xEXgCr2s"
   },
   "source": [
    "## Assemble model with external embeddings"
   ]
  },
  {
   "cell_type": "code",
   "execution_count": 25,
   "metadata": {
    "colab": {
     "base_uri": "https://localhost:8080/",
     "height": 926
    },
    "colab_type": "code",
    "id": "VDDlZMzoC5h1",
    "outputId": "a7d8359d-a11d-449e-c62b-7f06531ecad4"
   },
   "outputs": [
    {
     "name": "stdout",
     "output_type": "stream",
     "text": [
      "Epoch 0 train loss: 1.2712101793289186 train acc word: 0.023085042902550167 train acc sentence: 0.0  valid acc word: 0.03959200107368138 valid acc sentence: 0.0\n",
      "Epoch 1 train loss: 0.611098153591156 train acc word: 0.15441555859106193 train acc sentence: 0.0  valid acc word: 0.17373506911823916 valid acc sentence: 0.0\n",
      "Epoch 2 train loss: 0.553679827451706 train acc word: 0.18266662381643597 train acc sentence: 0.0  valid acc word: 0.18762582203731043 valid acc sentence: 0.0012970168612191958\n",
      "Epoch 3 train loss: 0.4944103705883026 train acc word: 0.22262490042824873 train acc sentence: 0.0  valid acc word: 0.2405717353375386 valid acc sentence: 0.0012970168612191958\n",
      "Epoch 4 train loss: 0.5519660699367523 train acc word: 0.16507091068544547 train acc sentence: 0.0  valid acc word: 0.15065091933968594 valid acc sentence: 0.0012970168612191958\n",
      "Epoch 5 train loss: 0.5259973657131195 train acc word: 0.19777321319180224 train acc sentence: 0.0  valid acc word: 0.21923231780968996 valid acc sentence: 0.0012970168612191958\n",
      "Epoch 6 train loss: 0.46765254735946654 train acc word: 0.261321527446736 train acc sentence: 0.0  valid acc word: 0.2838545161723259 valid acc sentence: 0.0\n",
      "Epoch 7 train loss: 0.4257309818267822 train acc word: 0.31816996560385513 train acc sentence: 0.0  valid acc word: 0.3116360220104684 valid acc sentence: 0.0\n",
      "Epoch 8 train loss: 0.40591515064239503 train acc word: 0.3380699661104898 train acc sentence: 0.0  valid acc word: 0.35350959602737886 valid acc sentence: 0.0\n",
      "Epoch 9 train loss: 0.38126598834991454 train acc word: 0.37212182403385513 train acc sentence: 0.0  valid acc word: 0.38142531203865254 valid acc sentence: 0.0\n",
      "Epoch 10 train loss: 0.3579193878173828 train acc word: 0.39480399021409446 train acc sentence: 0.0  valid acc word: 0.4005502617098376 valid acc sentence: 0.0\n",
      "Epoch 11 train loss: 0.3404174911975861 train acc word: 0.41196236117820106 train acc sentence: 0.0  valid acc word: 0.4198765266407194 valid acc sentence: 0.0\n",
      "Epoch 12 train loss: 0.3293882322311401 train acc word: 0.42091072442203786 train acc sentence: 0.0003125  valid acc word: 0.4290699235002013 valid acc sentence: 0.0012970168612191958\n",
      "Epoch 13 train loss: 0.32198947072029116 train acc word: 0.4297707625714714 train acc sentence: 0.0003125  valid acc word: 0.4388672661387733 valid acc sentence: 0.0012970168612191958\n",
      "Epoch 14 train loss: 0.316093293428421 train acc word: 0.4389708541175272 train acc sentence: 0.0  valid acc word: 0.4483961884310831 valid acc sentence: 0.0012970168612191958\n",
      "Epoch 15 train loss: 0.31155753016471865 train acc word: 0.44544813512504566 train acc sentence: 0.0003125  valid acc word: 0.45295933431754126 valid acc sentence: 0.0012970168612191958\n",
      "Epoch 16 train loss: 0.30833047509193423 train acc word: 0.44721382478826577 train acc sentence: 0.0003125  valid acc word: 0.4583948463293518 valid acc sentence: 0.0012970168612191958\n",
      "Epoch 17 train loss: 0.304451687335968 train acc word: 0.4569242820848239 train acc sentence: 0.0003125  valid acc word: 0.45846195141591733 valid acc sentence: 0.0012970168612191958\n",
      "Epoch 18 train loss: 0.3019713425636292 train acc word: 0.4569860690275294 train acc sentence: 0.0003125  valid acc word: 0.46436719903368673 valid acc sentence: 0.0012970168612191958\n",
      "Epoch 19 train loss: 0.298933721780777 train acc word: 0.45906973022018016 train acc sentence: 0.0003125  valid acc word: 0.46893034492014496 valid acc sentence: 0.0012970168612191958\n",
      "Epoch 20 train loss: 0.2974138176441193 train acc word: 0.45903851286187 train acc sentence: 0.000625  valid acc word: 0.46262246678298213 valid acc sentence: 0.0012970168612191958\n",
      "Epoch 21 train loss: 0.29701087951660154 train acc word: 0.4606473486843662 train acc sentence: 0.000625  valid acc word: 0.469534290699235 valid acc sentence: 0.0012970168612191958\n",
      "Epoch 22 train loss: 0.2943568301200867 train acc word: 0.4632235226855772 train acc sentence: 0.000625  valid acc word: 0.471681653469333 valid acc sentence: 0.0012970168612191958\n",
      "Epoch 23 train loss: 0.29238773822784425 train acc word: 0.4645075196771144 train acc sentence: 0.000625  valid acc word: 0.47020534156489063 valid acc sentence: 0.0012970168612191958\n",
      "Epoch 24 train loss: 0.290226309299469 train acc word: 0.4661307150989075 train acc sentence: 0.000625  valid acc word: 0.472755334854382 valid acc sentence: 0.0012970168612191958\n",
      "Epoch 25 train loss: 0.2884793758392334 train acc word: 0.46694990347221405 train acc sentence: 0.000625  valid acc word: 0.47557374849013556 valid acc sentence: 0.0038910505836575876\n",
      "Epoch 26 train loss: 0.2871046376228332 train acc word: 0.469673330034955 train acc sentence: 0.00125  valid acc word: 0.47819084686619245 valid acc sentence: 0.0038910505836575876\n",
      "Epoch 27 train loss: 0.2857506954669952 train acc word: 0.4715808290103617 train acc sentence: 0.00125  valid acc word: 0.4769158502214468 valid acc sentence: 0.0038910505836575876\n",
      "Epoch 28 train loss: 0.284828485250473 train acc word: 0.4716817591601665 train acc sentence: 0.000625  valid acc word: 0.47751979600053684 valid acc sentence: 0.0038910505836575876\n",
      "Epoch 29 train loss: 0.2841122090816498 train acc word: 0.47193528459110345 train acc sentence: 0.000625  valid acc word: 0.4775869010871024 valid acc sentence: 0.005188067444876783\n",
      "Epoch 30 train loss: 0.28344728410243986 train acc word: 0.47305652530227815 train acc sentence: 0.000625  valid acc word: 0.4773855858274057 valid acc sentence: 0.005188067444876783\n",
      "Epoch 31 train loss: 0.2829930567741394 train acc word: 0.4736295193453169 train acc sentence: 0.000625  valid acc word: 0.476580324788619 valid acc sentence: 0.00648508430609598\n",
      "Epoch 32 train loss: 0.28255139410495755 train acc word: 0.47425384978573154 train acc sentence: 0.000625  valid acc word: 0.477184270567709 valid acc sentence: 0.005188067444876783\n",
      "Epoch 33 train loss: 0.2821361237764359 train acc word: 0.47441914668747953 train acc sentence: 0.000625  valid acc word: 0.47577506374983225 valid acc sentence: 0.005188067444876783\n",
      "Epoch 34 train loss: 0.2817344921827316 train acc word: 0.4749623548145283 train acc sentence: 0.000625  valid acc word: 0.47590927392296334 valid acc sentence: 0.005188067444876783\n",
      "Epoch 35 train loss: 0.281334165930748 train acc word: 0.4752899323367219 train acc sentence: 0.000625  valid acc word: 0.47611058918266 valid acc sentence: 0.005188067444876783\n",
      "Epoch 36 train loss: 0.2811587333679199 train acc word: 0.47620359245819593 train acc sentence: 0.000625  valid acc word: 0.4777882163467991 valid acc sentence: 0.005188067444876783\n",
      "Epoch 37 train loss: 0.28079063653945924 train acc word: 0.47520352681480515 train acc sentence: 0.000625  valid acc word: 0.47711716548114347 valid acc sentence: 0.005188067444876783\n",
      "Epoch 38 train loss: 0.28059055268764493 train acc word: 0.47591383965758544 train acc sentence: 0.000625  valid acc word: 0.4760434840960945 valid acc sentence: 0.005188067444876783\n",
      "Epoch 39 train loss: 0.28027032911777494 train acc word: 0.477059567421818 train acc sentence: 0.000625  valid acc word: 0.47751979600053684 valid acc sentence: 0.005188067444876783\n",
      "Epoch 40 train loss: 0.2798694121837616 train acc word: 0.47662323073537766 train acc sentence: 0.000625  valid acc word: 0.4781237417796269 valid acc sentence: 0.005188067444876783\n",
      "Epoch 41 train loss: 0.27983847439289095 train acc word: 0.4777025031749396 train acc sentence: 0.000625  valid acc word: 0.4783250570393236 valid acc sentence: 0.005188067444876783\n",
      "Epoch 42 train loss: 0.27956571102142336 train acc word: 0.4769449792477166 train acc sentence: 0.000625  valid acc word: 0.4772513756542746 valid acc sentence: 0.005188067444876783\n",
      "Epoch 43 train loss: 0.2794259613752365 train acc word: 0.47716242205027226 train acc sentence: 0.000625  valid acc word: 0.47503690779761104 valid acc sentence: 0.005188067444876783\n",
      "Epoch 44 train loss: 0.279156494140625 train acc word: 0.4778048424843624 train acc sentence: 0.000625  valid acc word: 0.4775869010871024 valid acc sentence: 0.005188067444876783\n",
      "Epoch 45 train loss: 0.2787898999452591 train acc word: 0.4782845441756842 train acc sentence: 0.000625  valid acc word: 0.4783250570393236 valid acc sentence: 0.005188067444876783\n",
      "Epoch 46 train loss: 0.27892725527286527 train acc word: 0.47863836981009966 train acc sentence: 0.000625  valid acc word: 0.4798684740303315 valid acc sentence: 0.005188067444876783\n",
      "Epoch 47 train loss: 0.2784897351264954 train acc word: 0.47869283081193964 train acc sentence: 0.000625  valid acc word: 0.47960005368406927 valid acc sentence: 0.005188067444876783\n",
      "Epoch 48 train loss: 0.27818393111228945 train acc word: 0.4790594400145863 train acc sentence: 0.00125  valid acc word: 0.4798684740303315 valid acc sentence: 0.005188067444876783\n",
      "Epoch 49 train loss: 0.2779861694574356 train acc word: 0.4790018265173931 train acc sentence: 0.00125  valid acc word: 0.4807408401556838 valid acc sentence: 0.005188067444876783\n"
     ]
    }
   ],
   "source": [
    "# DATA PREPROCESSING\n",
    "train_data_embedded = []\n",
    "test_data_embedded = []\n",
    "\n",
    "def process_train_line(line):\n",
    "  l = line.split()\n",
    "  word, word_form, tag = l[2], l[1], l[4]\n",
    "  # embed data\n",
    "  try:\n",
    "    sentence_data.append(external_embeddings[word])\n",
    "  except KeyError:\n",
    "    sentence_data.append(np.zeros(EMB_LEN))\n",
    "  \n",
    "# PREPROCESS TRAIN DATA  \n",
    "f = open(PATH_TO_TRAIN_DATA)\n",
    "line = f.readline()\n",
    "sentence_data = []\n",
    "while line:\n",
    "  if ('sent_id' in line) or ('text' in line) or len(line)<4:\n",
    "    if len(sentence_data)>0:\n",
    "      train_data_embedded.append(sentence_data)\n",
    "    sentence_data = []\n",
    "  else: \n",
    "    process_train_line(line)\n",
    "  line = f.readline()\n",
    "f.close()\n",
    "\n",
    "# PREPROCESS TEST DATA\n",
    "f = open(PATH_TO_TEST_DATA)\n",
    "line = f.readline()\n",
    "sentence_data = []\n",
    "while line:\n",
    "  if ('sent_id' in line) or ('text' in line) or len(line)<4:\n",
    "    if len(sentence_data)>0:\n",
    "      test_data_embedded.append(sentence_data)\n",
    "    sentence_data = []\n",
    "  else: \n",
    "    process_train_line(line)\n",
    "  line = f.readline()\n",
    "f.close()\n",
    "\n",
    "\n",
    "train_data_embedded = pad_sequences(train_data_embedded, maxlen=MAX_LENGTH, padding='post')\n",
    "test_data_embedded = pad_sequences(test_data_embedded, maxlen=MAX_LENGTH, padding='post')\n",
    "\n",
    "X_train, X_valid, y_train, y_valid = train_test_split(train_data_embedded, train_labels_indexed, test_size=0.2)\n",
    "\n",
    "# one-hot encode the tags labels\n",
    "one_hot_train = to_categorical(y_train, len(tag_to_index))\n",
    "one_hot_valid = to_categorical(y_valid, len(tag_to_index))\n",
    "one_hot_test = to_categorical(y_test, len(tag_to_index))\n",
    "\n",
    "\n",
    "# network architecture\n",
    "def create_model_2():  \n",
    "  model = Sequential([\n",
    "    InputLayer(input_shape=(MAX_LENGTH, EMB_LEN)), \n",
    "    Bidirectional(LSTM(256, return_sequences=True)), \n",
    "    Dense(TAG_VOCAB_SIZE),\n",
    "    Activation('softmax')\n",
    "  ])\n",
    "\n",
    "  model.compile(loss='categorical_crossentropy',\n",
    "                optimizer=Adam(LEARNING_RATE), metrics = ['accuracy'])\n",
    "  \n",
    "  return model\n",
    "\n",
    "model = create_model_2()\n",
    "train_loss, train_acc_word, valid_acc_word, train_acc_sent, valid_acc_sent = train(model, X_train, one_hot_train, X_valid, one_hot_valid, epochs=EPOCHS, verbose = True)"
   ]
  },
  {
   "cell_type": "code",
   "execution_count": 26,
   "metadata": {
    "colab": {
     "base_uri": "https://localhost:8080/",
     "height": 851
    },
    "colab_type": "code",
    "id": "Qs-UlDUEi1Kq",
    "outputId": "3a1e7a8e-d914-4c94-e84a-d106ac2c9474"
   },
   "outputs": [
    {
     "data": {
      "image/png": "[encoded data removed]",
      "text/plain": [
       "<Figure size 432x288 with 1 Axes>"
      ]
     },
     "metadata": {
      "tags": []
     },
     "output_type": "display_data"
    },
    {
     "data": {
      "image/png": "[encoded data removed]",
      "text/plain": [
       "<Figure size 432x288 with 1 Axes>"
      ]
     },
     "metadata": {
      "tags": []
     },
     "output_type": "display_data"
    },
    {
     "data": {
      "image/png": "[encoded data removed]",
      "text/plain": [
       "<Figure size 432x288 with 1 Axes>"
      ]
     },
     "metadata": {
      "tags": []
     },
     "output_type": "display_data"
    }
   ],
   "source": [
    "from matplotlib import pyplot as plt\n",
    "\n",
    "plt.plot(train_loss)\n",
    "plt.ylabel('Loss')\n",
    "plt.xlabel('Epoch')\n",
    "plt.title('Train loss')\n",
    "plt.show()\n",
    "\n",
    "plt.plot(train_acc_word, label='train')\n",
    "plt.plot(valid_acc_word, label = 'validation')\n",
    "plt.ylabel('Words accuracy')\n",
    "plt.xlabel('Epoch')\n",
    "plt.title('Accuracy')\n",
    "plt.legend()\n",
    "plt.show()\n",
    "\n",
    "plt.plot(train_acc_sent, label='train')\n",
    "plt.plot(valid_acc_sent, label = 'validation')\n",
    "plt.ylabel('Sentences accuracy')\n",
    "plt.xlabel('Epoch')\n",
    "plt.title('Accuracy')\n",
    "plt.legend()\n",
    "plt.show()"
   ]
  },
  {
   "cell_type": "markdown",
   "metadata": {
    "colab_type": "text",
    "id": "15il1qyPX1q4"
   },
   "source": [
    "## Evaluate model trained using external embeddings"
   ]
  },
  {
   "cell_type": "code",
   "execution_count": 27,
   "metadata": {
    "colab": {
     "base_uri": "https://localhost:8080/",
     "height": 35
    },
    "colab_type": "code",
    "id": "SLjhvsnjX6zu",
    "outputId": "b17c9a33-9253-48f7-cd88-3946d54217df"
   },
   "outputs": [
    {
     "name": "stdout",
     "output_type": "stream",
     "text": [
      "Accuracy per word 0.4807828551186681 per sentence 0.0066555740432612314\n"
     ]
    }
   ],
   "source": [
    "predictions = model.predict(test_data_embedded)\n",
    "metrics = eval_one_hot(one_hot_test, predictions)\n",
    "print(f'Accuracy per word {metrics[0]} per sentence {metrics[1]}')"
   ]
  }
 ],
 "metadata": {
  "accelerator": "GPU",
  "colab": {
   "name": "Galieva_Rufina_RussianTagger.ipynb",
   "provenance": []
  },
  "kernelspec": {
   "display_name": "Python 3",
   "language": "python",
   "name": "python3"
  },
  "language_info": {
   "codemirror_mode": {
    "name": "ipython",
    "version": 3
   },
   "file_extension": ".py",
   "mimetype": "text/x-python",
   "name": "python",
   "nbconvert_exporter": "python",
   "pygments_lexer": "ipython3",
   "version": "3.6.8"
  }
 },
 "nbformat": 4,
 "nbformat_minor": 1
}
